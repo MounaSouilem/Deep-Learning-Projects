{
  "nbformat": 4,
  "nbformat_minor": 0,
  "metadata": {
    "anaconda-cloud": {},
    "kernelspec": {
      "display_name": "Python 3",
      "language": "python",
      "name": "python3"
    },
    "language_info": {
      "codemirror_mode": {
        "name": "ipython",
        "version": 3
      },
      "file_extension": ".py",
      "mimetype": "text/x-python",
      "name": "python",
      "nbconvert_exporter": "python",
      "pygments_lexer": "ipython3",
      "version": "3.7.4"
    },
    "colab": {
      "name": "Sentiment_Analysis.ipynb",
      "provenance": []
    }
  },
  "cells": [
    {
      "cell_type": "markdown",
      "metadata": {
        "id": "1pBxz7-UHDVt"
      },
      "source": [
        "# TP : Sentiment analysis on IMDB movie reviews\n",
        "* #### Mouna Souilem"
      ]
    },
    {
      "cell_type": "markdown",
      "metadata": {
        "id": "0RDSrxRlHDVx"
      },
      "source": [
        "## Objectives\n",
        "\n",
        "1. Implement a simple way to represent text data - Bag of words\n",
        "2. Implement a basic statistical learning model - Bayesian Naive\n",
        "3. Use these representations and this model for a sentiment analysis task.\n",
        "4. Implement different ways of obtaining dense representations of the same data\n",
        "5. Use a logistic regression model to train a classifier on these new representations."
      ]
    },
    {
      "cell_type": "markdown",
      "metadata": {
        "id": "uAtsg2Y7HDVy"
      },
      "source": [
        "## Necessary dependancies\n",
        "\n",
        "We will need the following packages:\n",
        "- The Machine Learning API Scikit-learn : http://scikit-learn.org/stable/install.html\n",
        "- The Natural Language Toolkit : http://www.nltk.org/install.html\n",
        "\n",
        "Both are available with Anaconda: https://anaconda.org/anaconda/nltk and https://anaconda.org/anaconda/scikit-learn"
      ]
    },
    {
      "cell_type": "code",
      "metadata": {
        "id": "E3CVOaGiHDVy"
      },
      "source": [
        "import os.path as op\n",
        "import re \n",
        "import numpy as np\n",
        "import matplotlib.pyplot as plt"
      ],
      "execution_count": null,
      "outputs": []
    },
    {
      "cell_type": "markdown",
      "metadata": {
        "id": "uOlcW6feHDV0"
      },
      "source": [
        "## Loading data\n",
        "\n",
        "We retrieve the textual data in the variable *texts*.\n",
        "\n",
        "The labels are retrieved in the variable $y$ - it contains *len(texts)* of them: $0$ indicates that the corresponding review is negative while $1$ indicates that it is positive."
      ]
    },
    {
      "cell_type": "code",
      "metadata": {
        "id": "ieYTOtRDHDV0",
        "outputId": "b748561c-6cc7-48d1-fe14-fc1409ebb9c3"
      },
      "source": [
        "from glob import glob\n",
        "# We get the files from the path: ./data/imdb1/neg for negative reviews, and ./data/imdb1/pos for positive reviews\n",
        "filenames_neg = sorted(glob(op.join('.', 'data', 'imdb1', 'neg', '*.txt')))\n",
        "filenames_pos = sorted(glob(op.join('.', 'data', 'imdb1', 'pos', '*.txt')))\n",
        "\n",
        "# Each files contains a review that consists in one line of text: we put this string in two lists, that we concatenate\n",
        "texts_neg = [open(f, encoding=\"utf8\").read() for f in filenames_neg]\n",
        "texts_pos = [open(f, encoding=\"utf8\").read() for f in filenames_pos]\n",
        "texts = texts_neg + texts_pos\n",
        "\n",
        "# The first half of the elements of the list are string of negative reviews, and the second half positive ones\n",
        "# We create the labels, as an array of [1,len(texts)], filled with 1, and change the first half to 0\n",
        "y = np.ones(len(texts), dtype=np.int)\n",
        "y[:len(texts_neg)] = 0.\n",
        "print(len(y))\n",
        "print(\"%d documents\" % len(texts))"
      ],
      "execution_count": null,
      "outputs": [
        {
          "name": "stdout",
          "output_type": "stream",
          "text": [
            "25000\n",
            "25000 documents\n"
          ]
        }
      ]
    },
    {
      "cell_type": "code",
      "metadata": {
        "id": "9dXuPysLHDV1",
        "outputId": "4eccf7d4-fc0f-4b3b-f1ce-86ac71de6a1f"
      },
      "source": [
        "# This number of documents may be high for most computers: we can select a fraction of them (here, one in k)\n",
        "# Use an even number to keep the same number of positive and negative reviews\n",
        "k = 10\n",
        "texts_reduced = texts[0::k]\n",
        "y_reduced = y [0::k]\n",
        "\n",
        "print('Number of documents:', len(texts_reduced))\n",
        "print(len(y))"
      ],
      "execution_count": null,
      "outputs": [
        {
          "name": "stdout",
          "output_type": "stream",
          "text": [
            "Number of documents: 2500\n",
            "15\n"
          ]
        }
      ]
    },
    {
      "cell_type": "markdown",
      "metadata": {
        "id": "_59ltaMKHDV2"
      },
      "source": [
        "# Naive Bayesian \n",
        "\n",
        "## Main idea\n",
        "\n",
        "A movie review is in fact a list of words $s = (w_1, ..., w_N)$, and we try to find the associated class $c$ - which in our case may be $c = 0$ or $c = 1$. The objective is thus to find for each review $s$ the class $\\hat{c}$ maximizing the conditional probability **$P(c|s)$** : \n",
        "\n",
        "$$\\hat{c} = \\underset{c}{\\mathrm{argmax}}\\, P(c|s) = \\underset{c}{\\mathrm{argmax}}\\,\\frac{P(s|c)P(c)}{P(s)}$$\n",
        "\n",
        "**Hypothesis : P(s) is constant for each class** :\n",
        "\n",
        "$$\\hat{c} = \\underset{c}{\\mathrm{argmax}}\\,\\frac{P(s|c)P(c)}{P(s)} = \\underset{c}{\\mathrm{argmax}}\\,P(s|c)P(c)$$\n",
        "\n",
        "**Naive hypothesis : the variables (words) of a review are independant between themselves** : \n",
        "\n",
        "$$P(s|c) = P(w_1, ..., w_N|c)=\\Pi_{i=1..N}P(w_i|c)$$\n",
        "\n",
        "We will therefore be able to use the reviews at our disposal to **estimate the probabilities $P(w|c)$ for each word $w$ given the two classes $c$**. These reviews will allow us to learn how to evaluate the \"compatibility\" between words and classes."
      ]
    },
    {
      "cell_type": "markdown",
      "metadata": {
        "id": "ri_sLMp_HDV3"
      },
      "source": [
        "## General view\n",
        "\n",
        "### Training: Estimating the probabilities\n",
        "\n",
        "For each word $w$ in the vocabulary $V$, $P(w|c)$ is the number of occurrences of $w$ in all reviews of class $c$, divided by the total number of occurrences in $c$. If we note $T(w,c)$ this number of occurrences, we get:\n",
        "\n",
        "$$P(w|c) = \\text{Frequency of }w\\text{ in }c = \\frac{T(w,c)}{\\sum_{w' \\in V} T(w',c)}$$\n",
        "\n",
        "### Test: Calculating scores\n",
        "\n",
        "To facilitate the calculations and to avoid *underflow* and approximation errors, we use the log-sum trick, and we pass the equation into log-probabilities : \n",
        "\n",
        "$$ \\hat{c} = \\underset{c}{\\mathrm{argmax}} P(c|s) = \\underset{c}{\\mathrm{argmax}} \\left[ \\mathrm{log}(P(c)) + \\sum_{i=1..N}log(P(w_i|c)) \\right] $$\n",
        "\n",
        "### Laplace smoothing\n",
        "\n",
        "A word that does not appear in a document has a probability of zero: this will cause issues with the logarithm. So we keep a very small part of the probability mass that we redistribute with the *Laplace smoothing*: \n",
        "\n",
        "$$P(w|c) = \\frac{T(w,c) + 1}{\\sum_{w' \\in V} (T(w',c) + 1)}$$\n",
        "\n",
        "There are other smoothing methods, generally suitable for other, more complex applications. "
      ]
    },
    {
      "cell_type": "markdown",
      "metadata": {
        "id": "V04k-JOCHDV4"
      },
      "source": [
        "## Adapted representation of documents\n",
        "\n",
        "Our statistical model, like most models applied to textual data, uses counts of word occurrences in a document. Thus, a very convenient way to represent a document is to use a Bag-of-Words (BoW) vector, containing the counts of each word (regardless of their order of occurrence) in the document. \n",
        "\n",
        "If we consider the set of all the words appearing in our $T$ training documents, which we note $V$ (Vocabulary), we can create **an index**, which is a bijection associating to each $w$ word an integer, which will be its position in $V$. \n",
        "\n",
        "Thus, for a document extracted from a set of documents containing $|V|$ different words, a BoW representation will be a vector of size $|V|$, whose value at the index of a word $w$ will be its number of occurrences in the document. \n",
        "\n",
        "We can use the **CountVectorizer** class from scikit-learn to better understand:"
      ]
    },
    {
      "cell_type": "code",
      "metadata": {
        "id": "CATdv1CAHDV4"
      },
      "source": [
        "from sklearn.feature_extraction.text import CountVectorizer\n",
        "\n",
        "from sklearn.model_selection import cross_val_score\n",
        "from sklearn.base import BaseEstimator, ClassifierMixin"
      ],
      "execution_count": null,
      "outputs": []
    },
    {
      "cell_type": "code",
      "metadata": {
        "id": "hVpJ7l2NHDV5",
        "outputId": "d54f6c85-2352-4242-c804-c9b6ef724843"
      },
      "source": [
        "corpus = ['I walked down down the boulevard',\n",
        "          'I walked down the avenue',\n",
        "          'I ran down the boulevard',\n",
        "          'I walk down the city',\n",
        "          'I walk down the the avenue']\n",
        "vectorizer = CountVectorizer()\n",
        "\n",
        "Bow = vectorizer.fit_transform(corpus)\n",
        "\n",
        "print(vectorizer.get_feature_names())\n",
        "Bow.toarray()"
      ],
      "execution_count": null,
      "outputs": [
        {
          "name": "stdout",
          "output_type": "stream",
          "text": [
            "['avenue', 'boulevard', 'city', 'down', 'ran', 'the', 'walk', 'walked']\n"
          ]
        },
        {
          "data": {
            "text/plain": [
              "array([[0, 1, 0, 2, 0, 1, 0, 1],\n",
              "       [1, 0, 0, 1, 0, 1, 0, 1],\n",
              "       [0, 1, 0, 1, 1, 1, 0, 0],\n",
              "       [0, 0, 1, 1, 0, 1, 1, 0],\n",
              "       [1, 0, 0, 1, 0, 2, 1, 0]], dtype=int64)"
            ]
          },
          "execution_count": 8,
          "metadata": {},
          "output_type": "execute_result"
        }
      ]
    },
    {
      "cell_type": "markdown",
      "metadata": {
        "id": "LMy6pFEUHDV5"
      },
      "source": [
        "We display the list containing the words ordered according to their index (Note that words of 2 characters or less are not counted)."
      ]
    },
    {
      "cell_type": "markdown",
      "metadata": {
        "id": "tt1lNoGWHDV6"
      },
      "source": [
        "## Detail: training\n",
        "\n",
        "The idea is to extract the number of occurrences $T(w,c)$ for each word $w$ and each class $c$, which will make it possible to calculate the matrix of conditional probabilities $\\pmb{P}$ such that: $$\\pmb{P}_{w,c} = P(w|c)$$\n",
        "\n",
        "Note that the number of occurrences $T(w,c)$ can be easily obtained from the BoW representations of all documents !\n",
        "\n",
        "### Procedure:\n",
        "\n",
        "- Extract the vocabulary $V$ and counts $T(w,c)$ for each of the words $w$ and classes $c$, from a set of documents.\n",
        "- Calculate the a priori probabilities of the classes $P(c) = \\frac{\\sum_{w \\in V} T(w,c)}{\\sum_{c \\in C} \\sum_{w \\in V} T(w,c)}$\n",
        "- Calculate the conditional **smoothed** probabilities $P(w|c) = \\frac{T(w,c) + 1}{\\sum_{w' \\in V} T(w',c) + 1}$.\n",
        "\n",
        "## Detail: test\n",
        "\n",
        "We now know the conditional probabilities given by the $\\pmb{P}$ matrix. \n",
        "Now we must obtain $P(s|c)$ for the current document. This quantity is obtained using a simple calculation involving the BoW representation of the document and $\\pmb{P}$.\n",
        "\n",
        "### Procedure:\n",
        "\n",
        "- For each of the classes $c$,\n",
        "    - $Score(c) = \\log P(c)$\n",
        "    - For each word $w$ in the document to be tested:\n",
        "        - $Score(c) += \\log P(w|c)$\n",
        "- Return $argmax_{c \\in C} Score(c)$ "
      ]
    },
    {
      "cell_type": "markdown",
      "metadata": {
        "id": "wPNJ7EVgHDV6"
      },
      "source": [
        "## Preprocessing the text: get the BoW representations ##\n",
        "\n",
        "The first thing to do is to turn the review from a string into a list of words. The simplest method is to divide the string according to spaces with the command:\n",
        "``text.split()``\n",
        "\n",
        "But we must also be careful to remove special characters that may not have been cleaned up (such as HTML tags if the data was obtained from web pages). Since we're going to count words, we'll have to build a list of tokens appearing in our data. In our case, we'd like to reduce this list and make it uniform (ignore capitalization, punctuation, and the shortest words). \n",
        "We will therefore use a function adapted to our needs - but this is a job that we generally don't need to do ourselves, since there are many tools already adapted to most situations. \n",
        "For text cleansing, there are many scripts, based on different tools (regular expressions, for example) that allow you to prepare data. The division of the text into words and the management of punctuation is handled in a step called *tokenization*; if needed, a python package like NLTK contains many different *tokenizers*."
      ]
    },
    {
      "cell_type": "code",
      "metadata": {
        "id": "2BJu24xSHDV6",
        "outputId": "df9cc343-f68d-4785-f18f-7b4132492c67"
      },
      "source": [
        "# We might want to clean the file with various strategies:\n",
        "def clean_and_tokenize(text):\n",
        "    \"\"\"\n",
        "    Cleaning a document with:\n",
        "        - Lowercase        \n",
        "        - Removing numbers with regular expressions\n",
        "        - Removing punctuation with regular expressions\n",
        "        - Removing other artifacts\n",
        "    And separate the document into words by simply splitting at spaces\n",
        "    Params:\n",
        "        text (string): a sentence or a document\n",
        "    Returns:\n",
        "        tokens (list of strings): the list of tokens (word units) forming the document\n",
        "    \"\"\"        \n",
        "    # Lowercase\n",
        "    text = text.lower()\n",
        "    # Remove numbers\n",
        "    text = re.sub(r\"[0-9]+\", \"\", text)\n",
        "    # Remove punctuation\n",
        "    REMOVE_PUNCT = re.compile(\"[.;:!\\'?,\\\"()\\[\\]]\")\n",
        "    text = REMOVE_PUNCT.sub(\"\", text)\n",
        "    # Remove small words (1 and statistique2 characters)\n",
        "    text = re.sub(r\"\\b\\w{1,2}\\b\", \"\", text)\n",
        "    # Remove HTML artifacts specific to the corpus we're going to work with\n",
        "    REPLACE_HTML = re.compile(\"(<br\\s*/><br\\s*/>)|(\\-)|(\\/)\")\n",
        "    text = REPLACE_HTML.sub(\" \", text)\n",
        "    \n",
        "    tokens = text.split()        \n",
        "    return tokens\n",
        "\n",
        "# Or we might want to use an already-implemented tool. The NLTK package has a lot of very useful text processing tools, among them various tokenizers\n",
        "# Careful, NLTK was the first well-documented NLP package, but it might be outdated for some uses. Check the documentation !\n",
        "import nltk\n",
        "nltk.download('punkt')\n",
        "from nltk.tokenize import word_tokenize\n",
        "\n",
        "corpus_raw = \"I walked down down the boulevard. I walked down the avenue. I ran down the boulevard. I walk down the city. I walk down the the avenue.\"\n",
        "print(clean_and_tokenize(corpus_raw))\n",
        "print(word_tokenize(corpus_raw))"
      ],
      "execution_count": null,
      "outputs": [
        {
          "name": "stderr",
          "output_type": "stream",
          "text": [
            "[nltk_data] Downloading package punkt to\n",
            "[nltk_data]     C:\\Users\\Admin\\AppData\\Roaming\\nltk_data...\n"
          ]
        },
        {
          "name": "stdout",
          "output_type": "stream",
          "text": [
            "['walked', 'down', 'down', 'the', 'boulevard', 'walked', 'down', 'the', 'avenue', 'ran', 'down', 'the', 'boulevard', 'walk', 'down', 'the', 'city', 'walk', 'down', 'the', 'the', 'avenue']\n",
            "['I', 'walked', 'down', 'down', 'the', 'boulevard', '.', 'I', 'walked', 'down', 'the', 'avenue', '.', 'I', 'ran', 'down', 'the', 'boulevard', '.', 'I', 'walk', 'down', 'the', 'city', '.', 'I', 'walk', 'down', 'the', 'the', 'avenue', '.']\n"
          ]
        },
        {
          "name": "stderr",
          "output_type": "stream",
          "text": [
            "[nltk_data]   Package punkt is already up-to-date!\n"
          ]
        }
      ]
    },
    {
      "cell_type": "markdown",
      "metadata": {
        "id": "TlAEyq8GHDV7"
      },
      "source": [
        "Function **to be completed**. It takes as input a list of documents (each in the form of a string) and returns, as in the example using ``CountVectorizer``:\n",
        "- A vocabulary that associates, to each word encountered, an index\n",
        "- A matrix, with rows representing documents and columns representing words indexed by the vocabulary. In position $(i,j)$, one should have the number of occurrences of the word $j$ in the document $i$.\n",
        "\n",
        "The vocabulary, which was in the form of a *list* in the previous example, can be returned in the form of a *dictionary* whose keys are the words and values are the indices. Since the vocabulary lists the words in the corpus without worrying about their number of occurrences, it can be built up using a set (in python). \n",
        "Of course, we can use the function ``clean_and_tokenize'' to transform the strings into a list of words. \n",
        "\n",
        "##### Some pointers for beginners in Python :\n",
        "\n",
        "- ```my_list.append(value)``` : put the variable ```value``` at the end of the list ```my_list```\n",
        "\n",
        "-  ```words = set()``` : create a set, which is a list of unique values \n",
        "\n",
        "- ```words.union(my_list)``` : extend the set ```words```\n",
        "\n",
        "- ```dict(zip(keys, values)))``` : create a dictionnary\n",
        "\n",
        "- ```for k, text in enumerate(texts)``` : syntax for a loop with the index, ```texts``` begin a list (of texts !)\n",
        "\n",
        "- ```len(my-list)``` : length of the list ```my_list```\n"
      ]
    },
    {
      "cell_type": "code",
      "metadata": {
        "id": "_xIBKPStHDV7"
      },
      "source": [
        "def count_words(texts):\n",
        "    \"\"\"Vectorize text : return count of each word in the text snippets\n",
        "\n",
        "    Parameters\n",
        "    ----------\n",
        "    texts : list of str\n",
        "        The texts\n",
        "    Returns\n",
        "    -------\n",
        "    vocabulary : dict\n",
        "        A dictionary that points to an index in counts for each word.\n",
        "    counts : ndarray, shape (n_samples, n_features)\n",
        "        The counts of each word in each text.\n",
        "    \"\"\"\n",
        "    #\n",
        "    words = set()\n",
        "    for t in texts:\n",
        "        tokens = clean_and_tokenize(t)\n",
        "        for word in tokens:\n",
        "            words.add(word)\n",
        "    list_words = list(words) \n",
        "    vocabulary = dict() \n",
        "    for i in range(len(list_words)):\n",
        "        vocabulary[ list_words[i] ] = i \n",
        "\n",
        "    counts = np.zeros( ( len(texts) , len(list_words) ) , dtype = int) \n",
        "\n",
        "    for i in range( counts.shape[0]):\n",
        "        text_splitted = clean_and_tokenize(texts[i])\n",
        "        for word in text_splitted : \n",
        "            counts[i][ vocabulary[word]] +=1\n",
        "    #\n",
        "    return vocabulary, counts"
      ],
      "execution_count": null,
      "outputs": []
    },
    {
      "cell_type": "code",
      "metadata": {
        "id": "dNFIq9YJHDV8",
        "outputId": "f8679688-8924-41c3-9b9b-424fe4a5776b"
      },
      "source": [
        "Voc, X = count_words(corpus)\n",
        "print(Voc)\n",
        "print(X)"
      ],
      "execution_count": null,
      "outputs": [
        {
          "name": "stdout",
          "output_type": "stream",
          "text": [
            "{'boulevard': 0, 'walked': 1, 'ran': 2, 'the': 3, 'city': 4, 'walk': 5, 'avenue': 6, 'down': 7}\n",
            "[[1 1 0 1 0 0 0 2]\n",
            " [0 1 0 1 0 0 1 1]\n",
            " [1 0 1 1 0 0 0 1]\n",
            " [0 0 0 1 1 1 0 1]\n",
            " [0 0 0 2 0 1 1 1]]\n"
          ]
        }
      ]
    },
    {
      "cell_type": "markdown",
      "metadata": {
        "id": "CfvHai8IHDV8"
      },
      "source": [
        "## Naive Bayesian \n",
        "\n",
        "Empty class: functions **to be completed** : \n",
        "\n",
        "```python\n",
        "def fit(self, X, y)\n",
        "``` \n",
        "**Training**: will learn a statistical model based on the representations $X$ corresponding to the labels $y$.\n",
        "Here, $X$ contains representations obtained as the output of ```count_words```. You can complete the function using the procedure detailed above. \n",
        "\n",
        "Note: the smoothing is not necessarily done with a $1$ - it can be done with a positive value $\\alpha$, which we can implement as an argument of the class \"NB\".\n",
        "\n",
        "```python\n",
        "def predict(self, X)\n",
        "```\n",
        "**Testing**: will return the labels predicted by the model for other representations $X$.\n",
        "\n",
        "\n",
        "\n",
        "To facilitate the procedure, we will take half of the $X$ matrix obtained above to train the model, and the other half to evaluate it. **Important**: this is not realistic - usually only the training data is available when creating the vocabulary and training the model. Thus, it is possible that the evaluation data may contain *unknown* words. This is something that can easily be dealt with by dedicating a clue to all the words encountered that are not contained in the vocabulary - but there are many more complex methods for successfully using those words that the model did not encounter in training. "
      ]
    },
    {
      "cell_type": "markdown",
      "metadata": {
        "id": "Dn0tlZ4nHDV9"
      },
      "source": [
        "##### Some pointers for beginners in Python :\n",
        "\n",
        "Use the Numpy API to work with arrays:\n",
        "\n",
        "\n",
        "- ```X.shape``` : for a ```numpy.array```, return the dimension of the tensor\n",
        "\n",
        "- ```np.zeros((dim_1, dim_2,...))``` : create a tensor filled with zeros\n",
        "\n",
        "- ```np.sum(X, axis = n)``` : sum the tensor over the axis n\n",
        "\n",
        "- ```np.mean(X, axis = n)```\n",
        "\n",
        "- ```np.argmax(X, axis = n)```\n",
        "\n",
        "- ```np.log(X)```\n",
        "\n",
        "- ```np.dot(X_1, X_1)``` : Matrix multiplication"
      ]
    },
    {
      "cell_type": "code",
      "metadata": {
        "id": "hk6gss6MHDV9"
      },
      "source": [
        "class NB(BaseEstimator, ClassifierMixin):\n",
        "    # Class arguments allow to inherit from sklearn classes\n",
        "    def __init__(self, alpha=1.0):\n",
        "        # alpha is the smoothing parameter\n",
        "        self.alpha = alpha\n",
        "        self.P0 = 0\n",
        "        self.P1 = 0\n",
        "        self.P_w_c0 = 0\n",
        "        self.P_w_c1 = 0\n",
        "\n",
        "    def fit(self, X, y):\n",
        "        #\n",
        "        T0 = np.sum(X[np.array(y)==0])\n",
        "        T1 = np.sum(X[np.array(y)==1])\n",
        "        self.P0 = T0/(T0+T1)\n",
        "        self.P_w_c0 = (np.sum(X[np.array(y)==0], axis=0)+self.alpha) / (self.alpha+T0) \n",
        "        self.P1 = T1/(T0+T1)\n",
        "        self.P_w_c1 = (np.sum(X[np.array(y)==1], axis=0)+self.alpha) / (self.alpha+T1)  \n",
        "        #\n",
        "        return self\n",
        "\n",
        "    def predict(self, X):\n",
        "        #\n",
        "        l0=np.log(self.P0)\n",
        "        l1=np.log(self.P1)\n",
        "        s = np.array([[l0, l1]] *X.shape[0])\n",
        "        P_w_c = np.column_stack((self.P_w_c0, self.P_w_c1))\n",
        "        s =s+ np.dot(X, np.log(P_w_c))\n",
        "        result=np.argmax(s, axis=1)\n",
        "        #\n",
        "        return result\n",
        "\n",
        "    def score(self, X, y):\n",
        "        return np.mean(self.predict(X) == y)"
      ],
      "execution_count": null,
      "outputs": []
    },
    {
      "cell_type": "markdown",
      "metadata": {
        "id": "f9emj48jHDV-"
      },
      "source": [
        "## Experimentation\n",
        "\n",
        "We use half the data for training, and the other half for evaluation."
      ]
    },
    {
      "cell_type": "code",
      "metadata": {
        "id": "Zkg71wtoHDV-"
      },
      "source": [
        "voc, X = count_words(texts_reduced)"
      ],
      "execution_count": null,
      "outputs": []
    },
    {
      "cell_type": "code",
      "metadata": {
        "scrolled": true,
        "id": "snXO2RIZHDV-",
        "outputId": "52fb9df3-3838-4419-efed-98b98b92ef22"
      },
      "source": [
        "nb = NB()\n",
        "nb.fit(X[::2], y_reduced[::2])\n",
        "print(nb.score(X[1::2], y_reduced[1::2]))"
      ],
      "execution_count": null,
      "outputs": [
        {
          "name": "stdout",
          "output_type": "stream",
          "text": [
            "0.796\n"
          ]
        }
      ]
    },
    {
      "cell_type": "markdown",
      "metadata": {
        "id": "f13cgnUUHDV_"
      },
      "source": [
        "## Cross-validation \n",
        "\n",
        "With the function *cross_val_score* from scikit-learn"
      ]
    },
    {
      "cell_type": "code",
      "metadata": {
        "id": "FWli8G2WHDV_",
        "outputId": "86dd9d85-cdaf-4607-c28b-f8663224098f"
      },
      "source": [
        "scores = cross_val_score(nb, X, y_reduced, cv=5)\n",
        "print('Classification score: %s (std %s)' % (np.mean(scores), np.std(scores)))"
      ],
      "execution_count": null,
      "outputs": [
        {
          "name": "stdout",
          "output_type": "stream",
          "text": [
            "Classification score: 0.7772 (std 0.025724696305301623)\n"
          ]
        }
      ]
    },
    {
      "cell_type": "markdown",
      "metadata": {
        "id": "tjdg7_7SHDV_"
      },
      "source": [
        "## Evaluating performances: \n",
        "\n",
        "**What are the strengths and weaknesses of this system? How can they be remedied?**\n",
        "* strenghts: This method is simple and yet quit accurate. It also can distinguish between good and bad reviews.\n",
        "* weaknesses: The fact that we supposed that the features are strongly independent which is not true in the real case, some words can be used both in the positive and negative way --> we need to read the review as a whole.   \n",
        "The more we have vocabumary the higher the complexity --> preprocessing to reduce the unnecessary vocab."
      ]
    },
    {
      "cell_type": "markdown",
      "metadata": {
        "id": "OqJiqXaFHDV_"
      },
      "source": [
        "## To go further: "
      ]
    },
    {
      "cell_type": "code",
      "metadata": {
        "id": "vInxjKxJHDWA"
      },
      "source": [
        "from sklearn.naive_bayes import MultinomialNB\n",
        "from sklearn.feature_extraction.text import TfidfTransformer\n",
        "from sklearn.pipeline import Pipeline"
      ],
      "execution_count": null,
      "outputs": []
    },
    {
      "cell_type": "markdown",
      "metadata": {
        "id": "pmQgGo7qHDWA"
      },
      "source": [
        "## Scikit-learn"
      ]
    },
    {
      "cell_type": "markdown",
      "metadata": {
        "id": "nRIBiI50HDWA"
      },
      "source": [
        "### Improving representations\n",
        "\n",
        "We use the function \n",
        "```python\n",
        "CountVectorizer\n",
        "``` \n",
        "of scikit-learn. It will allow us to easily improve our BoW representations.\n",
        "\n",
        "#### Tf-idf:\n",
        "\n",
        "This is the product of the frequency of the term (TF) and its inverse frequency in documents (IDF).\n",
        "This method is usually used to measure the importance of a term $i$ in a document $j$ relative to the rest of the corpus, from a matrix of occurrences $ words \\times documents$. Thus, for a matrix $\\mathbf{T}$ of $|V|$ terms and $D$ documents:\n",
        "$$\\text{TF}(T, w, d) = \\frac{T_{w,d}}{\\sum_{w'=1}^{|V|} T_{w',d}} $$\n",
        "\n",
        "$$\\text{IDF}(T,w) = \\log\\left(\\frac{D}{|\\{T_{w,d} > 0\\}|}\\right)$$\n",
        "\n",
        "$$\\text{TF-IDF}(T, w, d) = \\text{TF}(T, w, d) \\cdot \\text{IDF}(T, w)$$\n",
        "\n",
        "It can be adapted to our case by considering that the context of the second word is the document. However, TF-IDF is generally better suited to low-density matrices, since it will penalize terms that appear in a large part of the documents. \n",
        "    \n",
        "#### Do not take into account words that are too frequent:\n",
        "\n",
        "You can use the argument\n",
        "```python\n",
        "max_df=1.0\n",
        "```\n",
        "to change the amount of words taken into account. \n",
        "\n",
        "#### Try different granularities:\n",
        "\n",
        "Rather than just counting words, we can count sequences of words - limited in size, of course. \n",
        "We call a sequence of $n$ words a $n$-gram: let's try using 2 and 3-grams (bi- and trigrams).\n",
        "We can also try to use character sequences instead of word sequences.\n",
        "\n",
        "We will be interested in the options \n",
        "```python\n",
        "analyze='word'\n",
        "```\n",
        "and \n",
        "```python\n",
        "ngram_range=(1, 2)\n",
        "```\n",
        "which we'll change to alter the granularity. "
      ]
    },
    {
      "cell_type": "code",
      "metadata": {
        "scrolled": true,
        "id": "WShyn_NOHDWA",
        "outputId": "3e7a6e5b-36be-42b4-9fa7-0bd8a9b48f7c"
      },
      "source": [
        "## We can define a pipeline, with which we can experiment.\n",
        "\n",
        "pipeline_base = Pipeline([\n",
        "    ('vect', CountVectorizer(analyzer='word', stop_words=None)),\n",
        "    ('clf', MultinomialNB()),\n",
        "])\n",
        "scores = cross_val_score(pipeline_base, texts_reduced, y_reduced, cv=5)\n",
        "print(\"Classification score: %s (std %s)\",(np.mean(scores), np.std(scores)))\n",
        "\n",
        "pipeline_tf_idf = Pipeline([\n",
        "    ('vect', CountVectorizer(analyzer='word', stop_words=None)),\n",
        "    ('tfid', TfidfTransformer()),\n",
        "    ('clf', MultinomialNB()),\n",
        "])\n",
        "scores = cross_val_score(pipeline_tf_idf, texts_reduced, y_reduced, cv=5)\n",
        "print(\"Classification score tf-idf: %s (std %s)\",(np.mean(scores), np.std(scores)))\n",
        "\n",
        "pipeline_maxdf = Pipeline([\n",
        "    ('vect', CountVectorizer(analyzer='word', stop_words=None , max_df= 3.0)),\n",
        "    ('clf', MultinomialNB()),\n",
        "])\n",
        "scores = cross_val_score(pipeline_maxdf, texts_reduced, y_reduced, cv=5)\n",
        "print(\"Classification score sans mots fréquents: %s (std %s)\",(np.mean(scores), np.std(scores)))\n",
        "\n",
        "pipeline_bigram = Pipeline([\n",
        "    ('vect', CountVectorizer(analyzer='word', stop_words=None , ngram_range=(2, 2))),\n",
        "    ('clf', MultinomialNB()),\n",
        "])\n",
        "scores = cross_val_score(pipeline_bigram, texts_reduced, y_reduced, cv=5)\n",
        "print(\"Classification score bigram: %s (std %s)\",(np.mean(scores), np.std(scores)))\n",
        "\n",
        "pipeline_trigram = Pipeline([\n",
        "    ('vect', CountVectorizer(analyzer='word', stop_words=None , ngram_range=(3, 3))),\n",
        "    ('clf', MultinomialNB()),\n",
        "])\n",
        "scores = cross_val_score(pipeline_trigram, texts_reduced, y_reduced, cv=5)\n",
        "print(\"Classification score trigram: %s (std %s)\",(np.mean(scores), np.std(scores)))\n",
        "\n",
        "pipeline_char = Pipeline([\n",
        "    ('vect', CountVectorizer(analyzer='char', stop_words=None)),\n",
        "    ('clf', MultinomialNB()),\n",
        "])\n",
        "scores = cross_val_score(pipeline_char, texts_reduced, y_reduced, cv=5)\n",
        "print(\"Classification score char: %s (std %s)\",(np.mean(scores), np.std(scores)))"
      ],
      "execution_count": null,
      "outputs": [
        {
          "name": "stdout",
          "output_type": "stream",
          "text": [
            "Classification score: %s (std %s) (0.7807999999999999, 0.0213391658693586)\n",
            "Classification score tf-idf: %s (std %s) (0.7832, 0.023583044756773856)\n",
            "Classification score sans mots fréquents: %s (std %s) (0.7807999999999999, 0.0213391658693586)\n",
            "Classification score bigram: %s (std %s) (0.8048, 0.016079800993793397)\n",
            "Classification score trigram: %s (std %s) (0.7432000000000001, 0.012039933554633939)\n",
            "Classification score char: %s (std %s) (0.6108, 0.026551082840441765)\n"
          ]
        }
      ]
    },
    {
      "cell_type": "markdown",
      "metadata": {
        "id": "UsYQ13XDHDWB"
      },
      "source": [
        "### Natural Language Toolkit (NLTK)"
      ]
    },
    {
      "cell_type": "markdown",
      "metadata": {
        "id": "OOcALQ93HDWB"
      },
      "source": [
        "### Stemming \n",
        "\n",
        "Allows to go back to the root of a word: you can group different words around the same root, which facilitates generalization. Use:\n",
        "```python\n",
        "from nltk import SnowballStemmer\n",
        "```"
      ]
    },
    {
      "cell_type": "code",
      "metadata": {
        "id": "dm54ReM8HDWB"
      },
      "source": [
        "from nltk import SnowballStemmer\n",
        "stemmer = SnowballStemmer(\"english\")"
      ],
      "execution_count": null,
      "outputs": []
    },
    {
      "cell_type": "markdown",
      "metadata": {
        "id": "bCysmgiWHDWB"
      },
      "source": [
        "#### Example:"
      ]
    },
    {
      "cell_type": "code",
      "metadata": {
        "id": "a0ZJLLavHDWC",
        "outputId": "4345be81-c250-41c6-f5c1-f4d810eeee4e"
      },
      "source": [
        "words = ['singers', 'cat', 'generalization', 'philosophy', 'psychology', 'philosopher']\n",
        "for word in words:\n",
        "    print('word : %s ; stemmed : %s' %(word, stemmer.stem(word)))#.decode('utf-8'))))"
      ],
      "execution_count": null,
      "outputs": [
        {
          "name": "stdout",
          "output_type": "stream",
          "text": [
            "word : singers ; stemmed : singer\n",
            "word : cat ; stemmed : cat\n",
            "word : generalization ; stemmed : general\n",
            "word : philosophy ; stemmed : philosophi\n",
            "word : psychology ; stemmed : psycholog\n",
            "word : philosopher ; stemmed : philosoph\n"
          ]
        }
      ]
    },
    {
      "cell_type": "markdown",
      "metadata": {
        "id": "XEcPeeRuHDWC"
      },
      "source": [
        "#### Application:\n",
        "\n",
        "Empty class : function **to complete** \n",
        "```python\n",
        "def stem(X)\n",
        "``` "
      ]
    },
    {
      "cell_type": "code",
      "metadata": {
        "id": "0qCv5eKGHDWC"
      },
      "source": [
        "def stem(X): \n",
        "    X_stem = []\n",
        "    stemm = SnowballStemmer(\"english\")\n",
        "    for i in X:\n",
        "        doc = i.split(\" \")\n",
        "        X_stem.append(\" \".join([stemm.stem(k) for k in doc]))\n",
        "    return X_stem"
      ],
      "execution_count": null,
      "outputs": []
    },
    {
      "cell_type": "code",
      "metadata": {
        "id": "A5KWFlYcHDWC",
        "outputId": "7a030eff-66a0-4939-caa5-6f0ab572865c"
      },
      "source": [
        "texts_stemmed = stem(texts_reduced)\n",
        "voc, X = count_words(texts_stemmed)\n",
        "nb = NB()\n",
        "\n",
        "scores = cross_val_score(nb, X, y_reduced, cv=5)\n",
        "print('Classification score: %s (std %s)' % (np.mean(scores), np.std(scores)))"
      ],
      "execution_count": null,
      "outputs": [
        {
          "name": "stdout",
          "output_type": "stream",
          "text": [
            "Classification score: 0.7668 (std 0.019538679586911717)\n"
          ]
        }
      ]
    },
    {
      "cell_type": "markdown",
      "metadata": {
        "id": "1ODqd8lRHDWD"
      },
      "source": [
        "### Part of speech tags\n",
        "\n",
        "To generalize, we can also use the Part of Speech (POS) of the words, which will allow us to filter out information that is potentially not useful to the model. We will retrieve the POS of the words using the functions:\n",
        "```python\n",
        "from nltk import pos_tag, word_tokenize\n",
        "```"
      ]
    },
    {
      "cell_type": "code",
      "metadata": {
        "id": "fanE2pJpHDWD"
      },
      "source": [
        "import nltk\n",
        "from nltk import pos_tag, word_tokenize"
      ],
      "execution_count": null,
      "outputs": []
    },
    {
      "cell_type": "markdown",
      "metadata": {
        "id": "0a1447lEHDWD"
      },
      "source": [
        "#### Example:"
      ]
    },
    {
      "cell_type": "code",
      "metadata": {
        "scrolled": true,
        "id": "6X08iassHDWD",
        "outputId": "99ba8dda-792d-458b-c0b1-5b226d4d7c65"
      },
      "source": [
        "import nltk\n",
        "nltk.download('punkt')\n",
        "nltk.download('averaged_perceptron_tagger')\n",
        "\n",
        "pos_tag(word_tokenize(('I am Sam')))"
      ],
      "execution_count": null,
      "outputs": [
        {
          "name": "stderr",
          "output_type": "stream",
          "text": [
            "[nltk_data] Downloading package punkt to\n",
            "[nltk_data]     C:\\Users\\Admin\\AppData\\Roaming\\nltk_data...\n",
            "[nltk_data]   Package punkt is already up-to-date!\n",
            "[nltk_data] Downloading package averaged_perceptron_tagger to\n",
            "[nltk_data]     C:\\Users\\Admin\\AppData\\Roaming\\nltk_data...\n",
            "[nltk_data]   Package averaged_perceptron_tagger is already up-to-\n",
            "[nltk_data]       date!\n"
          ]
        },
        {
          "data": {
            "text/plain": [
              "[('I', 'PRP'), ('am', 'VBP'), ('Sam', 'NNP')]"
            ]
          },
          "execution_count": 23,
          "metadata": {},
          "output_type": "execute_result"
        }
      ]
    },
    {
      "cell_type": "markdown",
      "metadata": {
        "id": "M-5hIOUMHDWE"
      },
      "source": [
        "Details of POS tags meanings: https://stackoverflow.com/questions/15388831/what-are-all-possible-pos-tags-of-nltk"
      ]
    },
    {
      "cell_type": "markdown",
      "metadata": {
        "id": "nQ3pphkdHDWE"
      },
      "source": [
        "#### Application:\n",
        "\n",
        "Empty class : function **to complete** \n",
        "```python\n",
        "def pos_tag_filter(X, good_tags=['NN', 'VB', 'ADJ', 'RB'])\n",
        "``` \n",
        "\n",
        "Only keeps nouns, adverbs, verbs and adjectives for our model. "
      ]
    },
    {
      "cell_type": "code",
      "metadata": {
        "id": "NRTiF-NdHDWE"
      },
      "source": [
        "def pos_tag_filter(X, good_tags=['NN', 'VB', 'ADJ', 'RB']):\n",
        "    X_pos = []\n",
        "    for i in X:\n",
        "        res = pos_tag(word_tokenize(i))\n",
        "        a = []\n",
        "        for j in res:\n",
        "            if (j[1] in good_tags):\n",
        "                a.append(j[0])\n",
        "        X_pos.append(\" \".join(a))\n",
        "    return X_pos"
      ],
      "execution_count": null,
      "outputs": []
    },
    {
      "cell_type": "code",
      "metadata": {
        "id": "itgQzMZXHDWE",
        "outputId": "4d692b42-50df-4d2c-bdbb-bf041aa2d220"
      },
      "source": [
        "texts_POS = pos_tag_filter(texts_reduced)\n",
        "voc, X = count_words(texts_POS)\n",
        "nb = NB()\n",
        "\n",
        "scores = cross_val_score(nb, X, y_reduced, cv=5)\n",
        "print('Classification score: %s (std %s)' % (np.mean(scores), np.std(scores)))"
      ],
      "execution_count": null,
      "outputs": [
        {
          "name": "stdout",
          "output_type": "stream",
          "text": [
            "Classification score: 0.7427999999999999 (std 0.015676734353812352)\n"
          ]
        }
      ]
    },
    {
      "cell_type": "markdown",
      "metadata": {
        "id": "UoPsBOuBHDWE"
      },
      "source": [
        "## Using a more complex classifier?\n",
        "\n",
        "We can use scikit-learn implementations of less naive classifiers, such as logistic regression or SVM. What is the main disadvantage of this (let's imagine that, rather than a linear model, we choose to use a neural network with several hidden layers)?\n",
        "##### the main disadvantage of this is the computation time (high computation time) "
      ]
    },
    {
      "cell_type": "code",
      "metadata": {
        "id": "ZTX30GXtHDWF"
      },
      "source": [
        "from sklearn.svm import LinearSVC\n",
        "from sklearn.linear_model import LogisticRegression"
      ],
      "execution_count": null,
      "outputs": []
    },
    {
      "cell_type": "code",
      "metadata": {
        "id": "whYLFHTPHDWF",
        "outputId": "b041d419-bf4c-44ee-e8c2-d81fa7eeaa6b"
      },
      "source": [
        "pipeline_logistic = Pipeline([\n",
        "    ('vect', CountVectorizer(analyzer='word', stop_words=None )),\n",
        "    ('clf', LogisticRegression( max_iter=3000 , solver='saga' , random_state=42)),\n",
        "])\n",
        "scores = cross_val_score(pipeline_logistic, texts_reduced, y_reduced, cv=5)\n",
        "print(\"Classification score: %s (std %s)\" % (np.mean(scores), np.std(scores)))\n",
        "\n",
        "pipeline_svm = Pipeline([\n",
        "    ('vect', CountVectorizer(analyzer='word', stop_words=None)),\n",
        "    ('clf', LinearSVC( random_state=42 , max_iter=3000)),\n",
        "])\n",
        "scores = cross_val_score(pipeline_svm, texts_reduced, y_reduced, cv=5)\n",
        "print(\"Classification score: %s (std %s)\" % (np.mean(scores), np.std(scores)))"
      ],
      "execution_count": null,
      "outputs": [
        {
          "name": "stdout",
          "output_type": "stream",
          "text": [
            "Classification score: 0.8148 (std 0.009431860898041234)\n",
            "Classification score: 0.7988000000000001 (std 0.008352245207128448)\n"
          ]
        }
      ]
    },
    {
      "cell_type": "markdown",
      "metadata": {
        "id": "b85AdSbvHDWF"
      },
      "source": [
        "# Dense Representations \n",
        "\n",
        "##  Word Embeddings : Distributed representations via the distributional hypothesis \n",
        "\n",
        "**Goal**: We will try to obtain dense representations (as vectors of real numbers) of words (and possibly sentences). These representations are intended to be distributed: they are non-local representations. We represent an object as a combination of *features*, as opposed to the attribution of a dedicated symbol: see the founding work of Geoffrey Hinton, among others, on the subject: [Distributed Representations](https://web.stanford.edu/~jlmcc/papers/PDP/Chapter3.pdf).\n",
        "\n",
        "The term *distributed* representations is very general, but is what we are looking for. The challenge is therefore to be able to build, automatically, such representations.\n",
        "\n",
        "**Underlying idea**: It is based on the distributional hypothesis: contextual information is sufficient to obtain a viable representation of linguistic objects.\n",
        " - For a large class of cases [...] the meaning of a word is its use in the language.\" Wittgenstein (Philosophical Investigations, 43 - 1953)\n",
        " - You shall know a word by the company it keeps, Firth.\n",
        "\n",
        "Thus, a word can be characterized by the words that accompany it, via co-occurrence counts. Two words with a similar meaning will have a similar contextual distribution and are therefore more likely to appear in similar contexts. This hypothesis can be used as a justification for the application of statistics to semantics (information extraction, semantic analysis). It also allows some form of generalization: we can assume that the information we have about a word will be generalized to words with a similar distribution. \n",
        "\n",
        "**Motivation**: The goal is to obtain distributed representations in order to be able to effectively**:\n",
        "- Directly perform a semantic surface analysis.\n",
        "- Use it as a source of information for other language-related models and applications, especially for sentiment analysis. \n",
        "\n",
        "\n",
        "**Terminology**: Be careful not to confuse the idea of *distributed* and *distributional* representation. The latter generally indicates (for words) that the representation has been obtained strictly from co-occurrence counts, whereas additional information (document labels, part of speech tags, ...) can be used to build distributed representations. \n",
        "The models that allow to build these dense representations, in the form of vectors, are often called *vector spaces models*. These representations are also regularly called *word embeddings*, because the words are embedded in a vector space. In French, we often find the term *word embedding* or *lexical embedding*."
      ]
    },
    {
      "cell_type": "markdown",
      "metadata": {
        "id": "C0FJbRXoHDWF"
      },
      "source": [
        "## Getting representations: counts of occurrences and co-occurrences\n",
        "\n",
        "Depending on the type of corpus available, different types of distributional information can be obtained. If we have access to a collection of documents, we can thus choose to count the number of occurrences of each word in each document, to obtain a $words \\times documents$ matrix: it is on this principle that **Tf-Idf** is built. We will now look at a more general case: we have a large amount of data in text form, and we want to obtain representations of words in the form of vectors of reduced size, without the need to divide them into documents or categories. \n",
        "\n",
        "Suppose we have a corpus containing $T$ different words. We will construct a $\\mathbf{M}$ matrix of size $T \\times T$ which will contain the number of co-occurrences between words. There will be different factors to consider when constructing this matrix: \n",
        "\n",
        "- How do you define the 'context' of a word - context which will tell you what terms co-occur with that word?\n",
        "\n",
        "We can choose to use different scales: the document, the sentence, the nominal group, or simply a window of $k$ words, depending on the information we want to capture.\n",
        "\n",
        "\n",
        "- How do we quantify the importance of the counts? \n",
        "\n",
        "$\\rightarrow$ For example, we can give a decreasing weight to a co-occurrence according to the distance between the two words concerned ($\\frac{1}{d+1}$ for a separation by $d$ words).\n",
        "\n",
        "\n",
        "- Should we keep all the words that appear in the corpus? \n",
        "\n",
        "$\\rightarrow$ Usually not. We will see that for large corpora, the number $T$ of different words is huge. Second, even if the number of words is reasonable, we will have very little distributional information on the rarest words, and the representation obtained will be of poor quality. We will have to ask ourselves how to filter these words, and how to treat the words we choose not to represent.  "
      ]
    },
    {
      "cell_type": "markdown",
      "metadata": {
        "id": "HT199ENeHDWG"
      },
      "source": [
        "#### Example:\n",
        "\n",
        "Let's look at the following text:\n",
        "\n",
        "*I walked down down the boulevard. I walked down the avenue. I ran down the boulevard. I walk down the city. I walk down the the avenue.*\n",
        "\n",
        "We choose to define the context of a word as the sentence to which it belongs, and to not use any weighting.\n",
        "We obtain the following matrix: \n",
        "\n",
        "|     *         | I | the | down | walked | boulevard | avenue | walk | ran | city |\n",
        "|---------------|---|-----|------|--------|-----------|--------|------|-----|------|\n",
        "| I             | 0 |      6 |    6 |   2 |         2 |      2 |   2 |    1 |    1 |\n",
        "| the           | 6 |      2 |    7 |   2 |         2 |      3 |   3 |    1 |    1 |\n",
        "| down          | 6 |      7 |    2 |   3 |         3 |      2 |   2 |    1 |    1 |\n",
        "| walked        | 2 |      2 |    3 |   0 |         1 |      1 |   0 |    0 |    0 |\n",
        "| boulevard     | 2 |      2 |    3 |   1 |         0 |      0 |   0 |    1 |    0 |\n",
        "| avenue        | 2 |      3 |    2 |   1 |         0 |      0 |   1 |    0 |    0 |\n",
        "| ran           | 2 |      3 |    2 |   0 |         0 |      1 |   0 |    0 |    1 |\n",
        "| walk          | 1 |      1 |    1 |   0 |         1 |      0 |   0 |    0 |    0 |\n",
        "| city          | 1 |      1 |    1 |   0 |         0 |      0 |   1 |    0 |    1 |"
      ]
    },
    {
      "cell_type": "markdown",
      "metadata": {
        "id": "ZHFCwvGVHDWG"
      },
      "source": [
        "## Modifying the representations:\n",
        "\n",
        "We may want to alter the representations to obtain better features - depending on what use we will have for them.\n",
        "\n",
        "**Normalization**: Very easy: we want to cancel the influence of the magnitude of the counts on the representation.\n",
        "\n",
        "$$\\mathbf{m_{normalized}} = \\left[ \n",
        "   \\frac{m_{1}}{\\sum_{i=1}^{n}m_{i}}, \n",
        "   \\frac{m_{2}}{\\sum_{i=1}^{n}m_{i}}, \n",
        "   \\ldots\n",
        "   \\frac{m_{n}}{\\sum_{i=1}^{n}m_{i}}, \n",
        "\\right]$$\n",
        " \n",
        "**Pointwise Mutual Information**: The aim is to assess the extent to which the co-occurrence of the two terms is *unexpected*. This measure is the ratio of the joint probability of the two words and the product of their individual probabilities:\n",
        "$$\n",
        "\\text{PMI}(x,y) = \\log \\left( \\frac{P(x,y)}{P(x)P(y)} \\right)\n",
        "$$\n",
        "The joint probability of the two words corresponds to the number of times they are observed together, divided by the total number of co-occurrences in the corpus: \n",
        "$$ P(\\mathbf{M},w_{1},w_{2}) = \\frac{M_{w_{1},w_{2}}}{\\sum_{i=1}^{n}\\sum_{j=1}^{n} M_{i,j}} $$\n",
        "The individual probability of a word simply corresponds to its frequency, which can be calculated by counting all co-occurrences where that word appears:\n",
        "$$ P(\\mathbf{M},w) = \\frac{\\sum_{j=1}^{m} M_{w,j}}{\\sum_{i=1}^{n}\\sum_{j=1}^{n} M_{i,j}} $$\n",
        "Hence,\n",
        "$$ \n",
        "\\text{PMI}(\\mathbf{M},w_{1},w_{2}) = \\log  \\frac{M_{w_{1},w_{2}} \\times \\left( \\sum_{i=1}^{n}\\sum_{j=1}^{n} M_{i,j} \\right)}{\\left( \\sum_{j=1}^{n} M_{w_{1},j} \\right) \\times \\left( \\sum_{i=1}^{n}M_{i,w_{2}} \\right)} \n",
        "$$\n",
        "We thus calculate the discrepancy between the observation we have made in our corpus and the frequency of appearance of these terms if we consider them independent - i.e. we assume that their co-occurrence is a coincidence.\n",
        "\n",
        "The main problem with this measure is that it is not adapted to the case where no co-occurrence is observed. Since the PMI is supposed to return a positive quantity if more co-occurrences are observed than expected, and a negative quantity if fewer co-occurrences are observed, we cannot choose to replace $\\log(0)$ by $0$. A commonly used solution is to use the **Positive PMI**, which sets all negative values to $0$.\n",
        " \n",
        " $$\\text{PPMI}(\\mathbf{M},w_{1},w_{2}) = \n",
        " \\begin{cases}\n",
        " \\text{PMI}(\\mathbf{M},w_{1},w_{2}) & \\textrm{if } \\text{PMI}(\\mathbf{M},w_{1},w_{2}) > 0 \\\\\n",
        " 0 & \\textrm{otherwise}\n",
        " \\end{cases}$$\n",
        " \n",
        " **TF-IDF**: As noted earlier, this is the product of the frequency of the term (TF) and its inverse frequency in the documents (IDF). \n",
        "This method is usually used to extract the importance of a term $i$ in a document $j$ relative to the rest of the corpus, from a $terms \\times documents$ matrix. Thus, for a matrix $\\mathbf{X}$ of $n$ terms and $d$ documents: \n",
        "\n",
        " $$\\text{TF}(X, i, j) = \\frac{X_{i,j}}{\\sum_{i=1}^{t} X_{i,j}} $$\n",
        " \n",
        " $$\\text{IDF}(X, i) = \\log\\left(\\frac{d}{|\\{j : X_{i,j} > 0\\}|}\\right)$$\n",
        " \n",
        " $$\\text{TF-IDF}(X, i, j) = \\text{TF}(X, i, j) \\cdot \\text{IDF}(X, i)$$\n",
        "\n",
        "\n",
        "It can be adapted to our case by considering that the context of the second word is the document. However, TF-IDF is generally better suited to low-density matrices, since it will penalize terms that appear in a large part of the documents. Thus, applying it to the co-occurrences of the most frequent words is a priori not optimal."
      ]
    },
    {
      "cell_type": "markdown",
      "metadata": {
        "id": "nuWRYO_aHDWG"
      },
      "source": [
        "### Co-occurences matrix : reducing the dimension\n",
        "\n",
        "#### Motivation\n",
        "\n",
        "The aim is not only to reduce the size of the data (thus, we will deal with vectors of reduced dimensions, rather than working with vectors of the size of the vocabulary) but also to highlight higher level relationships between words: by reducing their representations to the *most important* dimensions of the data, we *generalize* certain properties between words.\n",
        "\n",
        "#### Dimension reduction via SVD \n",
        "\n",
        "A matrix is a linear transformation: applying an SVD to it means decomposing our linear transformation into a product of linear transformations of different types. In fact, we will change the basis of our vector, and replace our data in a space where each of the coordinates are unchanged by the transformation carried out. Thus, we decompose the matrix $\\mathbf{M}$ into three matrices:\n",
        "\n",
        "$$ \\mathbf{M} = \\mathbf{U} \\mathbf{\\lambda} \\mathbf{V}^{\\text{T}} $$\n",
        "\n",
        "Matrices $\\mathbf{U}$, $\\mathbf{\\lambda}$, et $\\mathbf{V}$ have the following properties:\n",
        "- $\\mathbf{U}$ and $\\mathbf{V}$ are orthogonal matrices ($\\mathbf{U}^{\\text{T}} = \\mathbf{U}^{-1}$ and $\\mathbf{V}^{\\text{T}} = \\mathbf{V}^{-1}$). They contain the eigen vectors to the right and to the left of $\\mathbf{M}$.\n",
        "- $\\mathbf{\\lambda}$ is a diagonal matrix: careful, it's not necessarily square. Values on the diagonal are the eigenvalues of $\\mathbf{M}$.\n",
        "\n",
        "Thus, the *most important* dimensions correspond to the largest eigenvalues. Reducing our data to $k$ dimensions corresponds to keeping only the vectors corresponding to the first $k$ eigenvalues - and this is equivalent to taking the first $k$ vectors of the $U$ matrix. \n",
        "\n",
        "Note: When we apply this method to the matrix of $\\mathbf{M}$ counts of dimension $T \\times D$, where $\\mathbf{M}_{t,d}$ contains the number of occurrences of the word $t$ in the document $d$, we obtain the method called **Latent Semantic Analysis**, for the detection of latent (semantic) components allowing the grouping of documents.  "
      ]
    },
    {
      "cell_type": "markdown",
      "metadata": {
        "id": "pQeWea5DHDWH"
      },
      "source": [
        "### In practice: get a Vocabulary.\n",
        "\n",
        "To begin, we will implement separately a function returning the vocabulary. Here we will have to be able to control its size, either by indicating a maximum number of words, or a minimum number of occurrences to take the words into account. We add, at the end, an \"unknown\" word that will replace all the words that do not appear in our \"limited\" vocabulary. "
      ]
    },
    {
      "cell_type": "code",
      "metadata": {
        "id": "MR8Z1zK1HDWH"
      },
      "source": [
        "def vocabulary(corpus, count_threshold=1, voc_threshold=15):\n",
        "    \"\"\"    \n",
        "    Function using word counts to build a vocabulary - can be improved with a second parameter for \n",
        "    setting a frequency threshold\n",
        "    Params:\n",
        "        corpus (list of strings): corpus of sentences\n",
        "        count_threshold (int): number of occurences necessary for a word to be included in the vocabulary\n",
        "        voc_threshold (int): maximum size of the vocabulary \n",
        "    Returns:\n",
        "        vocabulary (dictionary): keys: list of distinct words across the corpus\n",
        "                                 values: indexes corresponding to each word sorted by frequency   \n",
        "        vocabulary_word_counts (dictionary): keys: list of distinct words across the corpus\n",
        "                                             values: corresponding counts of words in the corpus\n",
        "    \"\"\"\n",
        "    word_counts = {}\n",
        "    \n",
        "    for i in corpus:\n",
        "        t = i.lower().split()\n",
        "        for j in t:\n",
        "            if (j in word_counts.keys()):\n",
        "                word_counts[j] =word_counts[j]+ 1\n",
        "            else:\n",
        "                word_counts[j] = 1\n",
        "\n",
        "    filtered_word_counts={}\n",
        "    vocabulary_word_counts = dict(sorted(word_counts.items(), key=lambda t:t[1], reverse=True))\n",
        "    nb = 0\n",
        "  \n",
        "    for key,value in list(vocabulary_word_counts.items()):\n",
        "        if value<count_threshold:\n",
        "            nb =nb+ value\n",
        "            del vocabulary_word_counts[key]\n",
        "        \n",
        "    a = 0\n",
        "    for key,value in list(vocabulary_word_counts.items()):\n",
        "        a=a+1\n",
        "        if a>=voc_threshold:\n",
        "            nb=nb+ value\n",
        "            del vocabulary_word_counts[key]\n",
        "    vocabulary_word_counts[\"UNK\"] = nb\n",
        "    vocabulary_word_counts = dict(sorted(vocabulary_word_counts.items(), key=lambda t:t[1], reverse=True))\n",
        "\n",
        "    vocabulary = {}\n",
        "    a=0\n",
        "    for key,value in list(vocabulary_word_counts.items()):\n",
        "        vocabulary[key] = a\n",
        "        a=a+1\n",
        "\n",
        "    return vocabulary, vocabulary_word_counts"
      ],
      "execution_count": null,
      "outputs": []
    },
    {
      "cell_type": "code",
      "metadata": {
        "id": "nik8YXBJHDWI",
        "outputId": "830f789d-d34c-46f1-b31f-5347a7a01530"
      },
      "source": [
        "# Example for testing:\n",
        "\n",
        "corpus = ['I walked down down the boulevard',\n",
        "          'I walked down the avenue',\n",
        "          'I ran down the boulevard',\n",
        "          'I walk down the city',\n",
        "          'I walk down the the avenue']\n",
        "\n",
        "voc, counts = vocabulary(corpus, count_threshold = 3)\n",
        "print(voc)\n",
        "print(counts)\n",
        "\n",
        "# We expect something like this:\n",
        "# (In this example, we don't count 'UNK' unknown words, but you can if you want to. \n",
        "# How useful it may be depends on the data -> we will use the counts later with word2vec, keep that in mind) \n",
        "#  {'down': 0, 'the': 1, 'i': 2, 'UNK': 3}\n",
        "#  {'down': 6, 'the': 6, 'i': 5, 'UNK': 0}\n",
        "\n",
        "voc, counts = vocabulary(corpus)\n",
        "print(voc)\n",
        "print(counts)\n",
        "\n",
        "# We expect something like this:\n",
        "#  {'down': 0, 'the': 1, 'i': 2, 'walked': 3, 'boulevard': 4, 'avenue': 5, 'walk': 6, 'ran': 7, 'city': 8, 'UNK': 9}\n",
        "#  {'down': 6, 'the': 6, 'i': 5, 'walked': 2, 'boulevard': 2, 'avenue': 2, 'walk': 2, 'ran': 1, 'city': 1, 'UNK': 0}"
      ],
      "execution_count": null,
      "outputs": [
        {
          "name": "stdout",
          "output_type": "stream",
          "text": [
            "{'UNK': 0, 'down': 1, 'the': 2, 'i': 3}\n",
            "{'UNK': 10, 'down': 6, 'the': 6, 'i': 5}\n",
            "{'down': 0, 'the': 1, 'i': 2, 'walked': 3, 'boulevard': 4, 'avenue': 5, 'walk': 6, 'ran': 7, 'city': 8, 'UNK': 9}\n",
            "{'down': 6, 'the': 6, 'i': 5, 'walked': 2, 'boulevard': 2, 'avenue': 2, 'walk': 2, 'ran': 1, 'city': 1, 'UNK': 0}\n"
          ]
        }
      ]
    },
    {
      "cell_type": "markdown",
      "metadata": {
        "id": "uCzcSA55HDWI"
      },
      "source": [
        "#### Application to a real data set\n",
        "\n",
        "We're going to work with the **imdb** data.\n",
        "\n",
        "#### Quick study of the data\n",
        "\n",
        "We would like to get an idea of what's in these film reviews before we proceed. So we'll get the vocabulary (in full) and represent the frequencies of the words, in order (be careful, you'll have to use a logarithmic scale): we should find back Zipf's law. This will give us an idea of the size of the vocabulary we will be able to choose: it's a matter of making a compromise between the necessary resources (size of the objects in memory) and the amount of information we can get from them (rare words can bring a lot of information, but it's difficult to learn good representations of them, because they are rare!).  "
      ]
    },
    {
      "cell_type": "code",
      "metadata": {
        "id": "kFIElNxzHDWJ",
        "outputId": "7ef97121-746e-44a2-df14-25405616cdcd"
      },
      "source": [
        "# We would like to display the curve of word frequencies given their rank (index) in the vocabulary\n",
        "vocab, word_counts = vocabulary(texts)\n",
        "y = list( word_counts.values() )\n",
        "x = list( vocab.values() )\n",
        "# We can for example use the function plt.scatter()\n",
        "plt.figure(figsize=(20,5))\n",
        "plt.title('Word counts versus rank')\n",
        "plt.scatter(x,y)\n",
        "plt.yscale('log')\n",
        "plt.show()\n",
        "# We would like to know how much of the data is represented by the 'k' most frequent words\n",
        "print('Vocabulary size: %i' % len(vocab))\n",
        "print('Part of the corpus by taking the \"x\" most frequent words ?')\n",
        "n = int(input(\"Give a number between 1 and {} : \".format(len(vocab)) ))\n",
        "while(n <= 0 or n > len(vocab) ):\n",
        "    n = int(input(\"Give a number between 1 and {} : \".format(len(vocab)) ))\n",
        "freq = sum( y[:n] ) / sum(y)\n",
        "print(\"The part of the data represented by the \",n,\" most frequent words is \",freq )"
      ],
      "execution_count": null,
      "outputs": [
        {
          "data": {
            "image/png": "[encoded data removed]",
            "text/plain": [
              "<Figure size 1440x360 with 1 Axes>"
            ]
          },
          "metadata": {
            "needs_background": "light"
          },
          "output_type": "display_data"
        },
        {
          "name": "stdout",
          "output_type": "stream",
          "text": [
            "Vocabulary size: 15\n",
            "Part of the corpus by taking the \"x\" most frequent words ?\n",
            "Give a number between 1 and 15 : 4\n",
            "The part of the data represented by the  4  most frequent words is  0.8480363338968088\n"
          ]
        }
      ]
    },
    {
      "cell_type": "markdown",
      "metadata": {
        "id": "9df_54o0HDWJ"
      },
      "source": [
        "Result of the analysis: you should find that we can be satisfied with 10,000 or even 5,000 words - this is important, because it will determine the size of the objects we will manipulate. "
      ]
    },
    {
      "cell_type": "code",
      "metadata": {
        "id": "uvHBMs4WHDWK"
      },
      "source": [
        "vocab_5k, word_counts_5k = vocabulary(texts, 0, 5000)"
      ],
      "execution_count": null,
      "outputs": []
    },
    {
      "cell_type": "code",
      "metadata": {
        "id": "JLN_UyF2HDWK",
        "outputId": "61077b68-9753-40b0-d172-84bb0b237453"
      },
      "source": [
        "print(vocab_5k['cinema'])"
      ],
      "execution_count": null,
      "outputs": [
        {
          "name": "stdout",
          "output_type": "stream",
          "text": [
            "627\n"
          ]
        }
      ]
    },
    {
      "cell_type": "markdown",
      "metadata": {
        "id": "6rWBH7ASHDWK"
      },
      "source": [
        "We could here compute the co-occurence matrix, and then reduce its dimension. Instead, we will use two of the most popular methods used to produce dense word representations (word embeddings). These methods are very different in practice, but are conceptually close, and resemble the procedure described earlier: reducing the dimension of co-occurences metrics.\n",
        "\n",
        "## Getting a representation: commonly used algorithms\n",
        "\n",
        "The idea here is to define a set of representations ${w_{i}}_{i=1}^{V}$, of predefined dimension $d$ (here, we will work with $d = 300$), for all the words $i$ of the vocabulary $V$ - then **train** these representations to match what we want. "
      ]
    },
    {
      "cell_type": "markdown",
      "metadata": {
        "id": "sIC9zkFoHDWL"
      },
      "source": [
        "### Word2Vec\n",
        "\n",
        "\n",
        "####  The skip-gram model\n",
        "\n",
        "The basic skip-gram model tries to predict the context words $c$ surrounding a given center word $w$. Hence, it needs to estimate the probabilities of a pair of words $(i, j)$ to appear together in data:\n",
        "\n",
        "$$P(j \\mid i) = \\frac{\\exp(w_{i} c_{j})}{\\sum_{j'\\in V}\\exp(w_{i} c_{j'})}$$\n",
        "\n",
        "\n",
        "where $w_{i}$ is the lign vector (of the word) $i$ representing the center word and $c_{j}$ is the column vector (of one of the context words) $j$. The objective is to minimize the following quantity:\n",
        "\n",
        "\n",
        "$$ -\\sum_{i \\in \\mathcal{D}} \\sum_{j \\in \\mathcal{N}_i} \\sum_{k=1}^{|V|} \\textbf{1}\\{o_{i}=k\\} \\log \\frac{\\exp(w_{i} c_{k})}{\\sum_{j=1}^{|V|} \\exp(w_{i} c_{j})}$$\n",
        "\n",
        "\n",
        "where $V$ is the vocabulary. Here, the first sum goes accross words $i$ the dataset $\\mathcal{D}$; the second accross context words $j$ in the neighborhood $\\mathcal{N}_i$ of word $i$; and the third sums probabilities the context word $j$ being the $k$-th word in the vocabulary for each $k \\in V$.\n",
        "The inputs $w_{i}$ are the representations of the center words, while $c_j$ are representations of the context words; both are made up of parameters, which are updated during training. Note that in this case, those representations are different, and we only keep the $w$ as final word representations to be used in NLP tasks - but it is possible to use the same parameters for $w$ and $c$, or to keep the mean of both representations at the end.  \n",
        "The **desired output** of the model is an *one-hot* $o$ vector, which contains only one $1$ and $0$. For example, if `good` is the 47th word in the vocabulary, the output $o$ for an example when `good` is the word to predict will consist of $0$s everywhere except $1$ in the 47th position of the vector. `good` will be the word to predict when the input $w$ is a word in its context.\n",
        "We therefore model this output with standard **softmax**, which will represent a probability distribution over $V$; and we add a bias term $b$. To obtain the vector of output probabilities, we need to vectorialize over all possible context words in $V$ - which means using the full matrix $C$ containing all vectors $c$.\n",
        "\n",
        "$$ o = \\textbf{softmax}(wC + b)$$\n",
        "\n",
        "Here, we train the parameters contained in $W$ and $C$, two matrices representing the words in reduced dimension (300) using a maximum likelihood objective.\n",
        "\n",
        "#### Skip-gram with negative sampling\n",
        "\n",
        "The training of the skip-gram model implies to calculate a sum on the whole vocabulary, because of the *softmax*. As soon as the size of the vocabulary increases, it becomes impossible to compute. In order to make the calculations faster, we change the objective and use the method of *negative sampling* (or, very close to it, the *noise contrastive estimation*).\n",
        "\n",
        "\n",
        "If here we note $\\mathcal{N'}_i$ a set of words that are **not** in the context of the word $i$, the objective is:\n",
        "\n",
        "\n",
        "$$ \\sum_{i \\in \\mathcal{D}} \\sum_{j \\in \\mathcal{N}_i} -\\log\\sigma(w_{i}c_{j}) + \\sum_{i \\in \\mathcal{D}} \\sum_{j \\in \\mathcal{N'}_i}\\log\\sigma(w_{i}c_{j})$$\n",
        "\n",
        "\n",
        "where $\\sigma$ is the sigmoid activation function $\\frac{1}{1 + \\exp(-x)}$.\n",
        "In practice, we draw randomly these *negative* words that are not in the context, and we don't differentiate depending on the input word $i$: \n",
        "\n",
        "$$ \\sum_{i \\in \\mathcal{D}} \\sum_{j \\in \\mathcal{N}_i} -\\log\\sigma(w_{i}c_{j}) + \\sum_{i \\in \\mathcal{D}} \\sum_{j \\in \\mathcal{N'}}\\log\\sigma(w_{i}c_{j})$$\n",
        "\n",
        "A common practice is to generate pairs from $\\mathcal{N}'$ in proportion to the frequencies of the words in the training data (the so-called unigram distribution):\n",
        "\n",
        "\n",
        "$$P(w) = \\frac{\\textbf{T}(w)^{0.75}}{\\sum_{w'\\in V} \\textbf{T}(w')}$$\n",
        "\n",
        "\n",
        "Although different, this new objective function is a sufficient approximation of the previous one, and is based on the same principle. Much research has been done on this objective: for example, [Levy and Golberg 2014](http://papers.nips.cc/paper/5477-neural-word-embedding-as-implicit-matrix-factorization) shows that the objective calculates the PMI matrix shifted by a constant value. One can also see [Cotterell et al. 2017](https://aclanthology.coli.uni-saarland.de/papers/E17-2028/e17-2028) for an interpretation of the algorithm as a variant of PCA."
      ]
    },
    {
      "cell_type": "markdown",
      "metadata": {
        "id": "KflMJUeWHDWL"
      },
      "source": [
        "We will use the ```gensim``` library for its implementation of word2vec in python. We'll have to make a specific use of it, since we want to keep the same vocabulary as before: we'll first create the class, then get the vocabulary we generated above. \n",
        "To avoid having to put all the data in memory all at once, we define a generator, which will take all the input data and pre-process it, and return to the ```Word2Vec``` class sentence by sentence. "
      ]
    },
    {
      "cell_type": "code",
      "metadata": {
        "id": "UKHDjRVdHDWL"
      },
      "source": [
        "\n",
        "from gensim.models import Word2Vec\n",
        "\n",
        "# Creates the Word2Vec model with the relevant parameters\n",
        "model = Word2Vec(size=300,\n",
        "                 window=5,\n",
        "                 iter=30)\n",
        "\n",
        "# Get the vocabulary from the counts we created earlier\n",
        "model.build_vocab_from_freq(word_counts_5k)"
      ],
      "execution_count": null,
      "outputs": []
    },
    {
      "cell_type": "code",
      "metadata": {
        "id": "seH3Pfw7HDWM"
      },
      "source": [
        "def preprocess_generator(large_corpus):\n",
        "    for line in large_corpus:\n",
        "        yield clean_and_tokenize(line)"
      ],
      "execution_count": null,
      "outputs": []
    },
    {
      "cell_type": "code",
      "metadata": {
        "id": "4WAt1rjoHDWM",
        "outputId": "4a2528b9-0298-4635-871b-148aaa765dd5"
      },
      "source": [
        "model.train(preprocess_generator(texts[:]), total_examples=10, epochs=30, report_delay=1)"
      ],
      "execution_count": null,
      "outputs": [
        {
          "data": {
            "text/plain": [
              "(3136379, 4694973)"
            ]
          },
          "execution_count": 36,
          "metadata": {},
          "output_type": "execute_result"
        }
      ]
    },
    {
      "cell_type": "code",
      "metadata": {
        "id": "pH29JmUhHDWM"
      },
      "source": [
        "W2VEmbeddings = model.wv.vectors"
      ],
      "execution_count": null,
      "outputs": []
    },
    {
      "cell_type": "markdown",
      "metadata": {
        "id": "vO7K-rG7HDWN"
      },
      "source": [
        "### Glove\n",
        "\n",
        "The objective defined by Glove ([Pennington et al. (2014)](http://www.aclweb.org/anthology/D/D14/D14-1162.pdf)) is to learn from the vectors $w_{i}$ and $w_{k}$ so that their scalar product corresponds to the logarithm of their **Pointwise Mutual Information**: \n",
        "\n",
        "\n",
        "$$ w_{i}^\\top w_{k} = (PMI(w_{i}, w_{k}))$$\n",
        "\n",
        "\n",
        "In the article, this objective is carefully justified by a reasoning about the operations one wants to perform with these vectors and the properties they should have - in particular, symmetry between rows and columns (see the article for more details).  \n",
        "The final goal obtained is the following, where $M$ is the co-occurrence matrix:\n",
        "\n",
        "\n",
        "$$\\sum_{i, j=1}^{|V|} f\\left(M_{ij}\\right)\n",
        "  \\left(w_i^\\top w_j + b_i + b_j - \\log M_{ij}\\right)^2$$\n",
        "  \n",
        " \n",
        "Here, $f$ is a *scaling* function that reduces the importance of the most frequent co-occurrence counts: \n",
        "\n",
        "\n",
        "$$f(x) \n",
        "\\begin{cases}\n",
        "(x/x_{\\max})^{\\alpha} & \\textrm{if } x < x_{\\max} \\\\\n",
        "1 & \\textrm{otherwise}\n",
        "\\end{cases}$$\n",
        "\n",
        "\n",
        "Usually, we choose $\\alpha=0.75$ and $x_{\\max} = 100$, although these parameters may need to be changed depending on the data."
      ]
    },
    {
      "cell_type": "markdown",
      "metadata": {
        "id": "UToSo3yNHDWN"
      },
      "source": [
        "The following code uses the gensim API to retrieve pre-trained representations (It is normal that the loading is long)."
      ]
    },
    {
      "cell_type": "code",
      "metadata": {
        "id": "rPIF0bBDHDWN"
      },
      "source": [
        "import gensim.downloader as api\n",
        "loaded_glove_model = api.load(\"glove-wiki-gigaword-300\")"
      ],
      "execution_count": null,
      "outputs": []
    },
    {
      "cell_type": "markdown",
      "metadata": {
        "id": "raYNYGM2HDWS"
      },
      "source": [
        "We can extract the embedding matrix this way, and check its size:"
      ]
    },
    {
      "cell_type": "code",
      "metadata": {
        "id": "_SETrf0kHDWS",
        "outputId": "43f5d291-81c3-4cbb-e58f-56b6c9cdc496"
      },
      "source": [
        "loaded_glove_embeddings = loaded_glove_model.vectors\n",
        "print(loaded_glove_embeddings.shape)"
      ],
      "execution_count": null,
      "outputs": [
        {
          "name": "stdout",
          "output_type": "stream",
          "text": [
            "(400000, 300)\n"
          ]
        }
      ]
    },
    {
      "cell_type": "markdown",
      "metadata": {
        "id": "aRlAyma-HDWS"
      },
      "source": [
        "We can see that there are $400,000$ words represented, and that the embeddings are of size $300$. We define a function that returns, from the loaded model, the vocabulary and the embedding matrix according to the structures we used before. We add, here again, an unknown word \"UNK\" in case there are words in our data that are not part of the $400,000$ words represented here. "
      ]
    },
    {
      "cell_type": "code",
      "metadata": {
        "id": "jCyMn4KeHDWT"
      },
      "source": [
        "def get_glove_voc_and_embeddings(glove_model):\n",
        "    voc = {word : index for word, index in enumerate(glove_model.index2word)}\n",
        "    voc['UNK'] = len(voc)\n",
        "    embeddings = glove_model.vectors\n",
        "    return voc, embeddings"
      ],
      "execution_count": null,
      "outputs": []
    },
    {
      "cell_type": "code",
      "metadata": {
        "id": "sxGO9Z2WHDWT"
      },
      "source": [
        "loaded_glove_voc, loaded_glove_embeddings = get_glove_voc_and_embeddings(loaded_glove_model)"
      ],
      "execution_count": null,
      "outputs": []
    },
    {
      "cell_type": "markdown",
      "metadata": {
        "id": "TcM1aK6hHDWT"
      },
      "source": [
        "In order to compare the representations loaded here and the ones produced with word2vec, the same vocabulary should be used. For this purpose, I reuse the following code to create a $5000$ word vocabulary from the data, and I add at the end a function that returns the matrix of representations loaded with Glove for these $5000$ words only, in the right order. "
      ]
    },
    {
      "cell_type": "code",
      "metadata": {
        "id": "Ok25mAjRHDWT"
      },
      "source": [
        "def get_glove_adapted_embeddings(glove_model, input_voc):\n",
        "    keys = {i: glove_model.vocab.get(w, None) for w, i in input_voc.items()}\n",
        "    index_dict = {i: key.index for i, key in keys.items() if key is not None}\n",
        "    embeddings = np.zeros((len(input_voc),glove_model.vectors.shape[1]))\n",
        "    for i, ind in index_dict.items():\n",
        "        embeddings[i] = glove_model.vectors[ind]\n",
        "    return embeddings"
      ],
      "execution_count": null,
      "outputs": []
    },
    {
      "cell_type": "code",
      "metadata": {
        "id": "jLjDGcEfHDWT"
      },
      "source": [
        "GloveEmbeddings = get_glove_adapted_embeddings(loaded_glove_model, vocab_5k)"
      ],
      "execution_count": null,
      "outputs": []
    },
    {
      "cell_type": "markdown",
      "metadata": {
        "id": "Lz-oQ1glHDWT"
      },
      "source": [
        "This function takes as input the model loaded using the Gensim API, as well as a vocabulary we created ourselves, and returns the embedding matrix from the loaded model, for the words in our vocabulary and in the right order.\n",
        "Note: unknown words are represented by a vector of zeros:"
      ]
    },
    {
      "cell_type": "code",
      "metadata": {
        "id": "9S-T4jBxHDWU",
        "outputId": "5a71a337-039b-4b57-a958-2f5ec3939ef2"
      },
      "source": [
        "print(GloveEmbeddings.shape)\n",
        "GloveEmbeddings[vocab_5k['UNK']]"
      ],
      "execution_count": null,
      "outputs": [
        {
          "name": "stdout",
          "output_type": "stream",
          "text": [
            "(5000, 300)\n"
          ]
        },
        {
          "data": {
            "text/plain": [
              "array([0., 0., 0., 0., 0., 0., 0., 0., 0., 0., 0., 0., 0., 0., 0., 0., 0.,\n",
              "       0., 0., 0., 0., 0., 0., 0., 0., 0., 0., 0., 0., 0., 0., 0., 0., 0.,\n",
              "       0., 0., 0., 0., 0., 0., 0., 0., 0., 0., 0., 0., 0., 0., 0., 0., 0.,\n",
              "       0., 0., 0., 0., 0., 0., 0., 0., 0., 0., 0., 0., 0., 0., 0., 0., 0.,\n",
              "       0., 0., 0., 0., 0., 0., 0., 0., 0., 0., 0., 0., 0., 0., 0., 0., 0.,\n",
              "       0., 0., 0., 0., 0., 0., 0., 0., 0., 0., 0., 0., 0., 0., 0., 0., 0.,\n",
              "       0., 0., 0., 0., 0., 0., 0., 0., 0., 0., 0., 0., 0., 0., 0., 0., 0.,\n",
              "       0., 0., 0., 0., 0., 0., 0., 0., 0., 0., 0., 0., 0., 0., 0., 0., 0.,\n",
              "       0., 0., 0., 0., 0., 0., 0., 0., 0., 0., 0., 0., 0., 0., 0., 0., 0.,\n",
              "       0., 0., 0., 0., 0., 0., 0., 0., 0., 0., 0., 0., 0., 0., 0., 0., 0.,\n",
              "       0., 0., 0., 0., 0., 0., 0., 0., 0., 0., 0., 0., 0., 0., 0., 0., 0.,\n",
              "       0., 0., 0., 0., 0., 0., 0., 0., 0., 0., 0., 0., 0., 0., 0., 0., 0.,\n",
              "       0., 0., 0., 0., 0., 0., 0., 0., 0., 0., 0., 0., 0., 0., 0., 0., 0.,\n",
              "       0., 0., 0., 0., 0., 0., 0., 0., 0., 0., 0., 0., 0., 0., 0., 0., 0.,\n",
              "       0., 0., 0., 0., 0., 0., 0., 0., 0., 0., 0., 0., 0., 0., 0., 0., 0.,\n",
              "       0., 0., 0., 0., 0., 0., 0., 0., 0., 0., 0., 0., 0., 0., 0., 0., 0.,\n",
              "       0., 0., 0., 0., 0., 0., 0., 0., 0., 0., 0., 0., 0., 0., 0., 0., 0.,\n",
              "       0., 0., 0., 0., 0., 0., 0., 0., 0., 0., 0.])"
            ]
          },
          "execution_count": 46,
          "metadata": {},
          "output_type": "execute_result"
        }
      ]
    },
    {
      "cell_type": "markdown",
      "metadata": {
        "id": "2vbm4NrAHDWU"
      },
      "source": [
        "### Comparing vectors\n",
        "\n",
        "These very large vectors can be used for a very basic semantic analysis: for example, by searching for the closest neighbors of a word. However, one must be careful with the distances used, related to certain metrics (Euclidean, Cosine) or possibly others related to belonging to sets (Matching, Jaccard). The normalization of vectors can also play a role. In any case, care must be taken not to over-interpret such results. "
      ]
    },
    {
      "cell_type": "code",
      "metadata": {
        "id": "I2ZkgmRIHDWU",
        "outputId": "3e7a1bfb-95d7-4cb4-847e-b143c86f20d9"
      },
      "source": [
        "def euclidean(u, v):\n",
        "    return np.linalg.norm(u-v)\n",
        "\n",
        "def length_norm(u):\n",
        "    return u / np.sqrt(u.dot(u))\n",
        "\n",
        "def cosine(u, v):\n",
        "    return 1.0 - length_norm(u).dot(length_norm(v))\n",
        "\n",
        "from sklearn.neighbors import NearestNeighbors\n",
        "\n",
        "def print_neighbors(distance, voc, co_oc, mot, k=10):\n",
        "    inv_voc = {id: w for w, id in voc.items()}\n",
        "    neigh = NearestNeighbors(k, algorithm='brute', metric=distance)\n",
        "    neigh.fit(co_oc) \n",
        "    dist, ind = neigh.kneighbors([co_oc[voc[mot]]])\n",
        "    print(\"Plus proches voisins de %s selon la distance '%s': \" % (mot, distance.__name__))\n",
        "    print([[inv_voc[i] for i in s[1:]] for s in ind])\n",
        "    \n",
        "print_neighbors(euclidean, vocab_5k, W2VEmbeddings, 'good')\n",
        "print_neighbors(cosine, vocab_5k, W2VEmbeddings, 'good')\n",
        "\n",
        "print_neighbors(euclidean, vocab_5k, GloveEmbeddings, 'good')\n",
        "print_neighbors(cosine, vocab_5k, GloveEmbeddings, 'good')"
      ],
      "execution_count": null,
      "outputs": [
        {
          "name": "stdout",
          "output_type": "stream",
          "text": [
            "Plus proches voisins de good selon la distance 'euclidean': \n",
            "[['their', 'more', 'there', 'only', 'some', 'what', 'which', 'when', 'her']]\n",
            "Plus proches voisins de good selon la distance 'cosine': \n",
            "[['the', 'and', 'but', 'with', 'its', 'this', 'that', 'was', 'are']]\n",
            "Plus proches voisins de good selon la distance 'euclidean': \n",
            "[['better', 'well', 'always', 'really', 'sure', 'way', 'so', 'but', 'excellent']]\n",
            "Plus proches voisins de good selon la distance 'cosine': \n",
            "[['better', 'really', 'always', 'you', 'well', 'excellent', 'very', 'things', 'think']]\n"
          ]
        },
        {
          "name": "stderr",
          "output_type": "stream",
          "text": [
            "C:\\Users\\Admin\\Anaconda3\\lib\\site-packages\\ipykernel_launcher.py:5: RuntimeWarning: invalid value encountered in true_divide\n",
            "  \"\"\"\n"
          ]
        }
      ]
    },
    {
      "cell_type": "markdown",
      "metadata": {
        "id": "Ytki4HxdHDWU"
      },
      "source": [
        "### Visualisation in two dimensions\n",
        "\n",
        "We will now use **principal component analysis** (PCA) to visualize our data in 2 dimensions.  This is equivalent to applying SVD to the covariance matrix of the data, so that the principal directions are independent of each other and maximize the variance of the data.\n",
        "We use the class ```PCA``` from the ```scikit-learn``` package: "
      ]
    },
    {
      "cell_type": "code",
      "metadata": {
        "id": "jMH5eFPWHDWV",
        "outputId": "3193838e-891e-478f-ea08-a9c42cd24cd9"
      },
      "source": [
        "from sklearn.decomposition import PCA\n",
        "pca = PCA(n_components=2, whiten=True)\n",
        "Emb = pca.fit_transform(GloveEmbeddings)\n",
        "\n",
        "words = ['bad', 'good', 'best', 'worst', 'poor', 'great',\n",
        "         'dialog', 'role', 'actor', 'camera', 'scene',\n",
        "         'film', 'movie', 'oscar', 'award']\n",
        "ind_words = [vocab_5k[w] for w in words]\n",
        "x_words = [Emb[ind,0] for ind in ind_words]\n",
        "y_words = [Emb[ind,1] for ind in ind_words]\n",
        "\n",
        "fig, ax = plt.subplots()\n",
        "ax.scatter(x_words, y_words)\n",
        "\n",
        "for i, w in enumerate(words):\n",
        "    ax.annotate(w, (x_words[i], y_words[i]), (x_words[i] + 0.001, y_words[i] + 0.001))"
      ],
      "execution_count": null,
      "outputs": [
        {
          "data": {
            "image/png": "[encoded data removed]",
            "text/plain": [
              "<Figure size 432x288 with 1 Axes>"
            ]
          },
          "metadata": {
            "needs_background": "light"
          },
          "output_type": "display_data"
        }
      ]
    },
    {
      "cell_type": "code",
      "metadata": {
        "id": "MkluvOJ7HDWV",
        "outputId": "cfd2adca-64d1-49dc-c166-91f6734e730f"
      },
      "source": [
        "pca = PCA(n_components=2, whiten=True)\n",
        "Emb = pca.fit_transform(W2VEmbeddings)\n",
        "\n",
        "words = ['bad', 'good', 'best', 'worst', 'poor', 'great',\n",
        "         'dialog', 'role', 'actor', 'camera', 'scene',\n",
        "         'film', 'movie', 'oscar', 'award']\n",
        "ind_words = [vocab_5k[w] for w in words]\n",
        "x_words = [Emb[ind,0] for ind in ind_words]\n",
        "y_words = [Emb[ind,1] for ind in ind_words]\n",
        "\n",
        "fig, ax = plt.subplots()\n",
        "ax.scatter(x_words, y_words)\n",
        "\n",
        "for i, w in enumerate(words):\n",
        "    ax.annotate(w, (x_words[i], y_words[i]), (x_words[i] + 0.001, y_words[i] + 0.001))"
      ],
      "execution_count": null,
      "outputs": [
        {
          "data": {
            "image/png": "[encoded data removed]",
            "text/plain": [
              "<Figure size 432x288 with 1 Axes>"
            ]
          },
          "metadata": {
            "needs_background": "light"
          },
          "output_type": "display_data"
        }
      ]
    },
    {
      "cell_type": "markdown",
      "metadata": {
        "id": "XWje8ayBHDWV"
      },
      "source": [
        "Try to obtain visualisation for more words/words that may be interesting given the data !"
      ]
    },
    {
      "cell_type": "markdown",
      "metadata": {
        "id": "yIVRufH4HDWV"
      },
      "source": [
        "## Application to sentiment analysis\n",
        "\n",
        "We will now use these representations for sentiment analysis. \n",
        "The basic model, as before, will be constructed in two steps:\n",
        "- A function to obtain vector representations of criticism, from text, vocabulary, and vector representations of words. Such a function (to be completed below) will associate to each word of a review its embeddings, and create the representation for the whole sentence by summing these embeddings.\n",
        "- A classifier will take these representations as input and make a prediction. To achieve this, we can first use logistic regression ```LogisticRegression``` from ```scikit-learn```  "
      ]
    },
    {
      "cell_type": "code",
      "metadata": {
        "id": "OpjVylv6HDWV"
      },
      "source": [
        "def sentence_representations(texts, vocabulary, embeddings, np_func=np.sum):\n",
        "    \"\"\"\n",
        "    Represent the sentences as a combination of the vector of its words.\n",
        "    Parameters\n",
        "    ----------\n",
        "    texts : a list of sentences   \n",
        "    vocabulary : dict\n",
        "        From words to indexes of vector.\n",
        "    embeddings : Matrix containing word representations\n",
        "    np_func : function (default: np.sum)\n",
        "        A numpy matrix operation that can be applied columnwise, \n",
        "        like `np.mean`, `np.sum`, or `np.prod`. \n",
        "    Returns\n",
        "    -------\n",
        "    np.array, dimension `(len(texts), embeddings.shape[1])`            \n",
        "    \"\"\"\n",
        "    representations = np.zeros((len(texts),embeddings.shape[1]),dtype=float) \n",
        "    for i in range(len(texts)) :\n",
        "        phrase = texts[i]\n",
        "        phrase_list= clean_and_tokenize(phrase)\n",
        "        L = np.zeros( (len(phrase_list), embeddings.shape[1]) )\n",
        "        for j in range (len(phrase_list)):\n",
        "            mot = phrase_list[j] \n",
        "            if mot in vocabulary.keys():\n",
        "                L[j] =  embeddings [ vocabulary[mot] ] \n",
        "            else:\n",
        "                L[j] =  embeddings [ vocabulary['UNK'] ] \n",
        "        representations[i,:] = np_func (L, axis = 0) \n",
        "    return representations"
      ],
      "execution_count": null,
      "outputs": []
    },
    {
      "cell_type": "code",
      "metadata": {
        "id": "RicTB9THHDWW",
        "outputId": "7c6fe4d1-59e1-4de2-b036-c77d17e1c901"
      },
      "source": [
        "from sklearn.linear_model import LogisticRegression\n",
        "from sklearn.model_selection import cross_val_score\n",
        "y = np.ones(len(texts), dtype=np.int)\n",
        "y[:len(texts_neg)] = 0.\n",
        "# Exemple avec les embeddings obtenus via Glove\n",
        "rep = sentence_representations(texts, vocab_5k, GloveEmbeddings)\n",
        "clf = LogisticRegression().fit(rep[::2], y[::2])\n",
        "print(clf.score(rep[1::2], y[1::2]))\n",
        "\n",
        "scores = cross_val_score(clf, rep, y, cv=5)\n",
        "print('Score de classification: %s (std %s)' % (np.mean(scores), np.std(scores)))"
      ],
      "execution_count": null,
      "outputs": [
        {
          "name": "stderr",
          "output_type": "stream",
          "text": [
            "C:\\Users\\Admin\\Anaconda3\\lib\\site-packages\\sklearn\\linear_model\\logistic.py:432: FutureWarning: Default solver will be changed to 'lbfgs' in 0.22. Specify a solver to silence this warning.\n",
            "  FutureWarning)\n"
          ]
        },
        {
          "name": "stdout",
          "output_type": "stream",
          "text": [
            "0.83856\n"
          ]
        },
        {
          "name": "stderr",
          "output_type": "stream",
          "text": [
            "C:\\Users\\Admin\\Anaconda3\\lib\\site-packages\\sklearn\\linear_model\\logistic.py:432: FutureWarning: Default solver will be changed to 'lbfgs' in 0.22. Specify a solver to silence this warning.\n",
            "  FutureWarning)\n",
            "C:\\Users\\Admin\\Anaconda3\\lib\\site-packages\\sklearn\\linear_model\\logistic.py:432: FutureWarning: Default solver will be changed to 'lbfgs' in 0.22. Specify a solver to silence this warning.\n",
            "  FutureWarning)\n",
            "C:\\Users\\Admin\\Anaconda3\\lib\\site-packages\\sklearn\\linear_model\\logistic.py:432: FutureWarning: Default solver will be changed to 'lbfgs' in 0.22. Specify a solver to silence this warning.\n",
            "  FutureWarning)\n",
            "C:\\Users\\Admin\\Anaconda3\\lib\\site-packages\\sklearn\\linear_model\\logistic.py:432: FutureWarning: Default solver will be changed to 'lbfgs' in 0.22. Specify a solver to silence this warning.\n",
            "  FutureWarning)\n",
            "C:\\Users\\Admin\\Anaconda3\\lib\\site-packages\\sklearn\\linear_model\\logistic.py:432: FutureWarning: Default solver will be changed to 'lbfgs' in 0.22. Specify a solver to silence this warning.\n",
            "  FutureWarning)\n"
          ]
        },
        {
          "name": "stdout",
          "output_type": "stream",
          "text": [
            "Score de classification: 0.8324400000000001 (std 0.005937541578801785)\n"
          ]
        }
      ]
    },
    {
      "cell_type": "markdown",
      "metadata": {
        "id": "lt9-GrrwHDWW"
      },
      "source": [
        "Why can we expect that the results obtained with embeddings extracted from representations pre-trained with Gl0ve are much better than word2vec ? What would be the way to compare Gl0ve with word2vec in a 'fair' way ? Try to play with word2vec parameters to improve results !"
      ]
    },
    {
      "cell_type": "code",
      "metadata": {
        "id": "3CFhbF8UHDWW",
        "outputId": "22b99f4c-a607-496c-f7c7-cb0a3c374d0b"
      },
      "source": [
        "#using word2vec\n",
        "rep = sentence_representations(texts, vocab_5k, W2VEmbeddings)\n",
        "clf = LogisticRegression().fit(rep[::2], y[::2])\n",
        "print(clf.score(rep[1::2], y[1::2]))\n",
        "scores = cross_val_score(clf, rep, y, cv=5)\n",
        "print('Score de classification (word2vec): %s (std %s)' % (np.mean(scores), np.std(scores)))\n"
      ],
      "execution_count": null,
      "outputs": [
        {
          "name": "stderr",
          "output_type": "stream",
          "text": [
            "C:\\Users\\Admin\\Anaconda3\\lib\\site-packages\\sklearn\\linear_model\\logistic.py:432: FutureWarning: Default solver will be changed to 'lbfgs' in 0.22. Specify a solver to silence this warning.\n",
            "  FutureWarning)\n"
          ]
        },
        {
          "name": "stdout",
          "output_type": "stream",
          "text": [
            "0.73632\n"
          ]
        },
        {
          "name": "stderr",
          "output_type": "stream",
          "text": [
            "C:\\Users\\Admin\\Anaconda3\\lib\\site-packages\\sklearn\\linear_model\\logistic.py:432: FutureWarning: Default solver will be changed to 'lbfgs' in 0.22. Specify a solver to silence this warning.\n",
            "  FutureWarning)\n",
            "C:\\Users\\Admin\\Anaconda3\\lib\\site-packages\\sklearn\\linear_model\\logistic.py:432: FutureWarning: Default solver will be changed to 'lbfgs' in 0.22. Specify a solver to silence this warning.\n",
            "  FutureWarning)\n",
            "C:\\Users\\Admin\\Anaconda3\\lib\\site-packages\\sklearn\\linear_model\\logistic.py:432: FutureWarning: Default solver will be changed to 'lbfgs' in 0.22. Specify a solver to silence this warning.\n",
            "  FutureWarning)\n",
            "C:\\Users\\Admin\\Anaconda3\\lib\\site-packages\\sklearn\\linear_model\\logistic.py:432: FutureWarning: Default solver will be changed to 'lbfgs' in 0.22. Specify a solver to silence this warning.\n",
            "  FutureWarning)\n",
            "C:\\Users\\Admin\\Anaconda3\\lib\\site-packages\\sklearn\\linear_model\\logistic.py:432: FutureWarning: Default solver will be changed to 'lbfgs' in 0.22. Specify a solver to silence this warning.\n",
            "  FutureWarning)\n"
          ]
        },
        {
          "name": "stdout",
          "output_type": "stream",
          "text": [
            "Score de classification (word2vec): 0.73676 (std 0.004220710840604914)\n"
          ]
        }
      ]
    },
    {
      "cell_type": "markdown",
      "metadata": {
        "id": "pELqokczHDWW"
      },
      "source": [
        "**The results obtained with embeddings extracted from representations pre-trained with Gl0ve( accuracy =  0.832 ) are much better than word2vec ( accuracy =  0.736 ) because in word2ec, we are training the model, and in order to have good results, we must tune the hyperparameters of the model so we can select the ones that give better accuracy. However in Glove, we are using an already trained model (unsing Gensim API) .\n",
        "--> to compare Glove with word2vec in a 'fair' way, we must either build the two models manually , or we load already pre-trained models for the two methods.**"
      ]
    }
  ]
}