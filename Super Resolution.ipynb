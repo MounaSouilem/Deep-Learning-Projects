{
  "nbformat": 4,
  "nbformat_minor": 0,
  "metadata": {
    "colab": {
      "name": "tp_deep_learning_cnn_part_3_for_students (1).ipynb",
      "provenance": [],
      "collapsed_sections": []
    },
    "kernelspec": {
      "name": "python3",
      "display_name": "Python 3"
    },
    "language_info": {
      "name": "python"
    },
    "accelerator": "GPU"
  },
  "cells": [
    {
      "cell_type": "markdown",
      "metadata": {
        "id": "mPf2yufekv0f"
      },
      "source": [
        "\n",
        "# TP CNN, part 3 : super-resolution\n",
        "\n",
        "Author : Alasdair Newson\n",
        "alasdair.newson@telecom-paris.fr\n",
        " \n",
        "## Objective:\n",
        "\n",
        "We want to implement a Convolutional Neural Network (CNN) to do image super-resolution.\n",
        "\n",
        "## Image super-resolution:\n",
        "\n",
        "The super-resolution problem can be summarised as follows. We have an image as an input, which is defined over a grid $\\{0,1,\\dots, m-1\\} \\times \\{0,1,\\dots, n-1\\}$. We define a factor $\\delta$, by which we upsample the image. The output of the super-resolution is an image defined on the grid $\\{0,\\frac{1}{\\delta},\\dots, m-1\\} \\times \\{0,\\frac{1}{\\delta},\\dots, n-1\\}$.\n",
        "\n",
        "## Model\n",
        "\n",
        "In this part of the TP, you have complete freedom to create any model you want, as long as the input is an image, and the output is also an image of size $\\delta m \\times \\delta n$. You will have to choose the architecture and loss which seems reasonable to you.\n",
        "\n",
        "To help you, here is a function to upsample images in neural networks :\n",
        "\n",
        "- ```from tensorflow.keras.layers import UpSampling2D```\n",
        "\n",
        "Of course, you can use any upsampling layer you wish. \n",
        "\n",
        "## Dataset\n",
        "\n",
        "We will be using the mnist dataset for this part. This is to ensure that you can obtain good results. The input data should be the subsampled version of the mnist images, subsampled by taking one out of every $\\delta$ pixels. The output data should be the normal-resolution mnist images.\n",
        "\n",
        "__IMPORTANT NOTES:__\n",
        "- Think carefully about what the training data and labels are in this case, and create them accordingly\n",
        "- We will use ```n_max=5000``` to limit the number of datapoints (as in part 1) to go faster\n",
        "- We set $\\delta$ to 2 in this TP, because it is not too difficult to create a network that works with this factor. If you change it, it might be more difficult to create a satisfactory network.\n",
        "\n",
        "# Your task:\n",
        "You have to load the mnist data (see the first part of the TP), create the model, train it, and evaluate and display the results.\n",
        "\n",
        "We have created a function ```super_res_interpolate```, which carries out super-resolution using basic interpolation (bilinear or bicubic), with which you can compare your results visually and numerically.\n",
        "\n"
      ]
    },
    {
      "cell_type": "code",
      "metadata": {
        "id": "5utO2_UDyKs3",
        "colab": {
          "base_uri": "https://localhost:8080/"
        },
        "outputId": "1eaa381d-a184-4393-e16e-27160ba6d76a"
      },
      "source": [
        "\n",
        "# # Load packages\n",
        "\n",
        "%matplotlib inline\n",
        "import matplotlib.pyplot as plt\n",
        "import numpy as np\n",
        "\n",
        "import tensorflow as tf\n",
        "from tensorflow.keras.utils import to_categorical\n",
        "\n",
        "from tensorflow.keras.models import Sequential, Model\n",
        "from tensorflow.keras.layers import Dense, Dropout, Activation, Flatten, Input\n",
        "from tensorflow.keras.layers import Conv2D, MaxPooling2D, UpSampling2D\n",
        "from tensorflow.keras import optimizers\n",
        "from scipy import interpolate\n",
        "from tensorflow.keras import regularizers\n",
        "print(tf.keras.__version__)"
      ],
      "execution_count": 46,
      "outputs": [
        {
          "output_type": "stream",
          "name": "stdout",
          "text": [
            "2.7.0\n"
          ]
        }
      ]
    },
    {
      "cell_type": "markdown",
      "metadata": {
        "id": "mcXyExW4vgmk"
      },
      "source": [
        "This next cell is the only code you are given to carry out the TP. This function carries out a bilinear upsampling, with which you can compare your super-resolution. This function is __not__ supposed to be used by you in your network."
      ]
    },
    {
      "cell_type": "code",
      "metadata": {
        "id": "np3Dj3tuqEqn"
      },
      "source": [
        "# choice of the interpolation method\n",
        "interp_method = 'linear'\n",
        "# upsampling factor\n",
        "delta = 2\n",
        "# the maximum number of data to take from mnist (to go a bit faster)\n",
        "n_max = 5000\n",
        "\n",
        "# upsample by a factor of delta\n",
        "# by definition, the new grid has a step size of 1/delta\n",
        "def super_res_interpolate(imgs_in,delta,interp_method = 'linear'):\n",
        "\timgs_out = tf.image.resize( tf.constant(imgs_in),\\\n",
        "\t\t[delta*imgs_in.shape[1],delta*imgs_in.shape[2]], method='bilinear').numpy()\n",
        "\n",
        "\treturn(imgs_out)\n"
      ],
      "execution_count": 47,
      "outputs": []
    },
    {
      "cell_type": "markdown",
      "metadata": {
        "id": "vLGjn0zP5h0V"
      },
      "source": [
        "## Create your super-resolution network\n",
        "\n",
        "The rest is up to you ! Import the data, format it (you can use the first part of the TP as help), create your network, train it, and compare the results with ```super_res_interpolate```.\n",
        "\n",
        "Your network should be able to achieve about $80\\%$ accuracy.\n",
        "\n",
        "__Note__ you can obviously create as many cells as you like in your work."
      ]
    },
    {
      "cell_type": "code",
      "metadata": {
        "id": "Hfx5BxeUqKf-",
        "colab": {
          "base_uri": "https://localhost:8080/"
        },
        "outputId": "706425d3-fa9a-4d9f-db58-7c9f3e4e2a2d"
      },
      "source": [
        "from keras.datasets import mnist\n",
        "(X_train, Y_train), (X_test, Y_test) = mnist.load_data()\n",
        "\n",
        "n_max = 5000\n",
        "X_train = X_train[0:n_max,:,:]\n",
        "X_test = X_test[0:n_max,:,:]\n",
        "\n",
        "print(X_test.shape)\n",
        "print(X_train.shape)"
      ],
      "execution_count": 48,
      "outputs": [
        {
          "output_type": "stream",
          "name": "stdout",
          "text": [
            "(5000, 28, 28)\n",
            "(5000, 28, 28)\n"
          ]
        }
      ]
    },
    {
      "cell_type": "code",
      "metadata": {
        "colab": {
          "base_uri": "https://localhost:8080/",
          "height": 324
        },
        "id": "mgtRYdVE28wp",
        "outputId": "3729efed-5fe2-41e6-c53e-208b0d2889b3"
      },
      "source": [
        "plt.figure(figsize=(10, 6))\n",
        "for idx in range(0,10):\n",
        "    plt.subplot(2, 5, idx+1)\n",
        "    rand_ind = np.random.randint(0,X_train.shape[0])\n",
        "    plt.imshow(X_test[rand_ind,:,:],cmap='gray')\n",
        " "
      ],
      "execution_count": 49,
      "outputs": [
        {
          "output_type": "display_data",
          "data": {
            "image/png": "[encoded data removed]",
            "text/plain": [
              "<Figure size 720x432 with 10 Axes>"
            ]
          },
          "metadata": {
            "needs_background": "light"
          }
        }
      ]
    },
    {
      "cell_type": "code",
      "metadata": {
        "colab": {
          "base_uri": "https://localhost:8080/"
        },
        "id": "Qzu7EykG6YXh",
        "outputId": "9781b3d4-3e2d-45f1-eec0-1421fbf3d3af"
      },
      "source": [
        "#subsampling\n",
        "Y_train=np.ndarray((X_train.shape[0],28,28))\n",
        "Y_test=np.ndarray((X_train.shape[0],28,28))\n",
        "X_train_sub=np.ndarray((X_train.shape[0],14,14))\n",
        "X_test_sub=np.ndarray((X_test.shape[0],14,14))\n",
        "for i in range(X_train.shape[0]):\n",
        "  #print(X_train[i].shape)\n",
        "  X_train_sub[i]=X_train[i][::delta,::delta]\n",
        "  Y_train[i]=X_train[i]\n",
        "  X_test_sub[i]=X_test[i][::delta,::delta]\n",
        "  Y_test[i]=X_test[i]\n",
        "print(X_test_sub.shape)\n",
        "print(Y_train.shape)\n"
      ],
      "execution_count": 50,
      "outputs": [
        {
          "output_type": "stream",
          "name": "stdout",
          "text": [
            "(5000, 14, 14)\n",
            "(5000, 28, 28)\n"
          ]
        }
      ]
    },
    {
      "cell_type": "code",
      "metadata": {
        "colab": {
          "base_uri": "https://localhost:8080/",
          "height": 323
        },
        "id": "J0_4mUd77Y6M",
        "outputId": "a5b0ae2e-9b73-44fe-9ab0-efd6185cb5f0"
      },
      "source": [
        "plt.figure(figsize=(10, 6))\n",
        "for idx in range(0,10):\n",
        "    plt.subplot(2, 5, idx+1)\n",
        "    rand_ind = np.random.randint(0,X_train_sub.shape[0])\n",
        "    plt.imshow(X_test_sub[rand_ind,:,:],cmap='gray')\n",
        "\n"
      ],
      "execution_count": 51,
      "outputs": [
        {
          "output_type": "display_data",
          "data": {
            "image/png": "[encoded data removed]",
            "text/plain": [
              "<Figure size 720x432 with 10 Axes>"
            ]
          },
          "metadata": {
            "needs_background": "light"
          }
        }
      ]
    },
    {
      "cell_type": "code",
      "metadata": {
        "colab": {
          "base_uri": "https://localhost:8080/"
        },
        "id": "ehfF0FNMCONn",
        "outputId": "5f30c474-55c1-4195-fdd9-0872dd3a5c64"
      },
      "source": [
        "# input image dimensions (mnist data is grey-level)\n",
        "img_rows, img_cols, nb_channels = X_train_sub.shape[1], X_train_sub.shape[2], 1\n",
        "\n",
        "# In case depth is 1 (black and white pictures) -> reshape to proper format\n",
        "X_train_sub= X_train_sub.reshape(X_train_sub.shape[0], img_rows, img_cols, nb_channels)\n",
        "X_test_sub = X_test_sub.reshape(X_test_sub.shape[0], img_rows, img_cols, nb_channels)\n",
        "\n",
        "X_train_sub = X_train_sub.astype('float32')\n",
        "X_test_sub = X_test_sub.astype('float32')\n",
        "X_train_sub /= 255\n",
        "X_test_sub /= 255\n",
        "\n",
        "# number of classes\n",
        "nb_classes = Y_train.shape[1]\n",
        "\n",
        "print('X_train shape:', X_train_sub.shape)\n",
        "print('Y_train shape:', Y_train.shape)\n",
        "print('There are {} train data'.format(X_train_sub.shape[0]))\n",
        "print('There are {} test data'.format(X_test_sub.shape[0]))\n",
        "print(img_rows, img_cols, nb_channels)"
      ],
      "execution_count": 52,
      "outputs": [
        {
          "output_type": "stream",
          "name": "stdout",
          "text": [
            "X_train shape: (5000, 14, 14, 1)\n",
            "Y_train shape: (5000, 28, 28)\n",
            "There are 5000 train data\n",
            "There are 5000 test data\n",
            "14 14 1\n"
          ]
        }
      ]
    },
    {
      "cell_type": "code",
      "metadata": {
        "id": "6Fs5PkvZJzmk"
      },
      "source": [
        "Input_img = Input(shape=(img_rows, img_cols, nb_channels))  \n",
        "    \n",
        "#encoding architecture\n",
        "x1 = Conv2D(64, (3, 3), activation='relu', padding='same', kernel_regularizer=regularizers.l1(10e-10))(Input_img)\n",
        "x2 = Conv2D(64, (3, 3), activation='relu', padding='same', kernel_regularizer=regularizers.l1(10e-10))(x1)\n",
        "x3 = MaxPooling2D(padding='same')(x2)\n",
        "x4 = Conv2D(128, (3, 3), activation='relu', padding='same', kernel_regularizer=regularizers.l1(10e-10))(x3)\n",
        "x5 = Conv2D(128, (3, 3), activation='relu', padding='same', kernel_regularizer=regularizers.l1(10e-10))(x4)\n",
        "encoded = Conv2D(256, (3, 3), activation='relu', padding='same', kernel_regularizer=regularizers.l1(10e-10))(x5)\n",
        "\n",
        "# decoding architecture\n",
        "x6 = UpSampling2D(size=(2,2))(encoded)\n",
        "x7 = Conv2D(128, (3, 3), activation='relu', padding='same', kernel_regularizer=regularizers.l1(10e-10))(x6)\n",
        "x8 = Conv2D(128, (3, 3), activation='relu', padding='same', kernel_regularizer=regularizers.l1(10e-10))(x7)\n",
        "x9 = UpSampling2D(size=(2,2))(x8)\n",
        "x10 = Conv2D(64, (3, 3), activation='relu', padding='same', kernel_regularizer=regularizers.l1(10e-10))(x9)\n",
        "x11 = Conv2D(64, (3, 3), activation='relu', padding='same', kernel_regularizer=regularizers.l1(10e-10))(x10)\n",
        "\n",
        "decoded = Conv2D(1, (3, 3), padding='same',activation='relu', kernel_regularizer=regularizers.l1(10e-10))(x11)\n",
        "\n"
      ],
      "execution_count": 53,
      "outputs": []
    },
    {
      "cell_type": "code",
      "metadata": {
        "colab": {
          "base_uri": "https://localhost:8080/"
        },
        "id": "sQO20JAcOmcz",
        "outputId": "bb288b6b-371f-4d31-ab4e-33ef13172fce"
      },
      "source": [
        "model = Model(Input_img, decoded)\n",
        "model.compile(optimizer='adam', loss='mse', metrics=['accuracy'])\n",
        "model.summary()\n"
      ],
      "execution_count": 54,
      "outputs": [
        {
          "output_type": "stream",
          "name": "stdout",
          "text": [
            "Model: \"model_1\"\n",
            "_________________________________________________________________\n",
            " Layer (type)                Output Shape              Param #   \n",
            "=================================================================\n",
            " input_2 (InputLayer)        [(None, 14, 14, 1)]       0         \n",
            "                                                                 \n",
            " conv2d_10 (Conv2D)          (None, 14, 14, 64)        640       \n",
            "                                                                 \n",
            " conv2d_11 (Conv2D)          (None, 14, 14, 64)        36928     \n",
            "                                                                 \n",
            " max_pooling2d_1 (MaxPooling  (None, 7, 7, 64)         0         \n",
            " 2D)                                                             \n",
            "                                                                 \n",
            " conv2d_12 (Conv2D)          (None, 7, 7, 128)         73856     \n",
            "                                                                 \n",
            " conv2d_13 (Conv2D)          (None, 7, 7, 128)         147584    \n",
            "                                                                 \n",
            " conv2d_14 (Conv2D)          (None, 7, 7, 256)         295168    \n",
            "                                                                 \n",
            " up_sampling2d_2 (UpSampling  (None, 14, 14, 256)      0         \n",
            " 2D)                                                             \n",
            "                                                                 \n",
            " conv2d_15 (Conv2D)          (None, 14, 14, 128)       295040    \n",
            "                                                                 \n",
            " conv2d_16 (Conv2D)          (None, 14, 14, 128)       147584    \n",
            "                                                                 \n",
            " up_sampling2d_3 (UpSampling  (None, 28, 28, 128)      0         \n",
            " 2D)                                                             \n",
            "                                                                 \n",
            " conv2d_17 (Conv2D)          (None, 28, 28, 64)        73792     \n",
            "                                                                 \n",
            " conv2d_18 (Conv2D)          (None, 28, 28, 64)        36928     \n",
            "                                                                 \n",
            " conv2d_19 (Conv2D)          (None, 28, 28, 1)         577       \n",
            "                                                                 \n",
            "=================================================================\n",
            "Total params: 1,108,097\n",
            "Trainable params: 1,108,097\n",
            "Non-trainable params: 0\n",
            "_________________________________________________________________\n"
          ]
        }
      ]
    },
    {
      "cell_type": "code",
      "metadata": {
        "colab": {
          "base_uri": "https://localhost:8080/"
        },
        "id": "0iqAylqr2g5r",
        "outputId": "42cb7836-f591-4075-afa1-817a8e58291b"
      },
      "source": [
        "model.fit(X_train_sub,Y_train,epochs=50)"
      ],
      "execution_count": 55,
      "outputs": [
        {
          "output_type": "stream",
          "name": "stdout",
          "text": [
            "Epoch 1/50\n",
            "157/157 [==============================] - 6s 30ms/step - loss: 3560.4756 - accuracy: 0.4413\n",
            "Epoch 2/50\n",
            "157/157 [==============================] - 5s 30ms/step - loss: 781.0203 - accuracy: 0.7792\n",
            "Epoch 3/50\n",
            "157/157 [==============================] - 5s 29ms/step - loss: 543.5691 - accuracy: 0.7858\n",
            "Epoch 4/50\n",
            "157/157 [==============================] - 5s 29ms/step - loss: 461.4797 - accuracy: 0.7887\n",
            "Epoch 5/50\n",
            "157/157 [==============================] - 5s 30ms/step - loss: 431.1591 - accuracy: 0.7897\n",
            "Epoch 6/50\n",
            "157/157 [==============================] - 5s 30ms/step - loss: 403.4307 - accuracy: 0.7906\n",
            "Epoch 7/50\n",
            "157/157 [==============================] - 5s 30ms/step - loss: 384.7239 - accuracy: 0.7914\n",
            "Epoch 8/50\n",
            "157/157 [==============================] - 5s 30ms/step - loss: 370.1251 - accuracy: 0.7918\n",
            "Epoch 9/50\n",
            "157/157 [==============================] - 5s 30ms/step - loss: 359.6510 - accuracy: 0.7921\n",
            "Epoch 10/50\n",
            "157/157 [==============================] - 5s 30ms/step - loss: 349.2344 - accuracy: 0.7923\n",
            "Epoch 11/50\n",
            "157/157 [==============================] - 5s 30ms/step - loss: 336.6936 - accuracy: 0.7927\n",
            "Epoch 12/50\n",
            "157/157 [==============================] - 5s 30ms/step - loss: 334.0923 - accuracy: 0.7925\n",
            "Epoch 13/50\n",
            "157/157 [==============================] - 5s 30ms/step - loss: 327.8518 - accuracy: 0.7927\n",
            "Epoch 14/50\n",
            "157/157 [==============================] - 5s 30ms/step - loss: 318.9605 - accuracy: 0.7929\n",
            "Epoch 15/50\n",
            "157/157 [==============================] - 5s 30ms/step - loss: 313.5667 - accuracy: 0.7929\n",
            "Epoch 16/50\n",
            "157/157 [==============================] - 5s 30ms/step - loss: 307.3141 - accuracy: 0.7931\n",
            "Epoch 17/50\n",
            "157/157 [==============================] - 5s 29ms/step - loss: 302.8511 - accuracy: 0.7931\n",
            "Epoch 18/50\n",
            "157/157 [==============================] - 5s 30ms/step - loss: 300.2899 - accuracy: 0.7931\n",
            "Epoch 19/50\n",
            "157/157 [==============================] - 5s 30ms/step - loss: 292.4279 - accuracy: 0.7932\n",
            "Epoch 20/50\n",
            "157/157 [==============================] - 5s 30ms/step - loss: 290.6850 - accuracy: 0.7933\n",
            "Epoch 21/50\n",
            "157/157 [==============================] - 5s 30ms/step - loss: 295.1032 - accuracy: 0.7930\n",
            "Epoch 22/50\n",
            "157/157 [==============================] - 5s 30ms/step - loss: 284.1121 - accuracy: 0.7933\n",
            "Epoch 23/50\n",
            "157/157 [==============================] - 5s 30ms/step - loss: 280.8900 - accuracy: 0.7935\n",
            "Epoch 24/50\n",
            "157/157 [==============================] - 5s 30ms/step - loss: 273.3860 - accuracy: 0.7936\n",
            "Epoch 25/50\n",
            "157/157 [==============================] - 5s 30ms/step - loss: 276.5178 - accuracy: 0.7936\n",
            "Epoch 26/50\n",
            "157/157 [==============================] - 5s 30ms/step - loss: 265.2584 - accuracy: 0.7938\n",
            "Epoch 27/50\n",
            "157/157 [==============================] - 5s 30ms/step - loss: 268.2071 - accuracy: 0.7938\n",
            "Epoch 28/50\n",
            "157/157 [==============================] - 5s 30ms/step - loss: 263.9291 - accuracy: 0.7940\n",
            "Epoch 29/50\n",
            "157/157 [==============================] - 5s 29ms/step - loss: 265.2227 - accuracy: 0.7939\n",
            "Epoch 30/50\n",
            "157/157 [==============================] - 5s 30ms/step - loss: 257.9346 - accuracy: 0.7940\n",
            "Epoch 31/50\n",
            "157/157 [==============================] - 5s 30ms/step - loss: 249.8268 - accuracy: 0.7945\n",
            "Epoch 32/50\n",
            "157/157 [==============================] - 5s 30ms/step - loss: 247.0883 - accuracy: 0.7947\n",
            "Epoch 33/50\n",
            "157/157 [==============================] - 5s 30ms/step - loss: 246.6187 - accuracy: 0.7945\n",
            "Epoch 34/50\n",
            "157/157 [==============================] - 5s 30ms/step - loss: 240.9167 - accuracy: 0.7948\n",
            "Epoch 35/50\n",
            "157/157 [==============================] - 5s 30ms/step - loss: 243.8004 - accuracy: 0.7948\n",
            "Epoch 36/50\n",
            "157/157 [==============================] - 5s 30ms/step - loss: 242.5441 - accuracy: 0.7946\n",
            "Epoch 37/50\n",
            "157/157 [==============================] - 5s 30ms/step - loss: 234.1913 - accuracy: 0.7950\n",
            "Epoch 38/50\n",
            "157/157 [==============================] - 5s 30ms/step - loss: 235.4034 - accuracy: 0.7950\n",
            "Epoch 39/50\n",
            "157/157 [==============================] - 5s 30ms/step - loss: 229.8796 - accuracy: 0.7953\n",
            "Epoch 40/50\n",
            "157/157 [==============================] - 5s 30ms/step - loss: 233.5357 - accuracy: 0.7952\n",
            "Epoch 41/50\n",
            "157/157 [==============================] - 5s 30ms/step - loss: 230.7642 - accuracy: 0.7952\n",
            "Epoch 42/50\n",
            "157/157 [==============================] - 5s 30ms/step - loss: 226.8466 - accuracy: 0.7952\n",
            "Epoch 43/50\n",
            "157/157 [==============================] - 5s 30ms/step - loss: 222.1387 - accuracy: 0.7956\n",
            "Epoch 44/50\n",
            "157/157 [==============================] - 5s 30ms/step - loss: 217.5022 - accuracy: 0.7957\n",
            "Epoch 45/50\n",
            "157/157 [==============================] - 5s 30ms/step - loss: 212.7946 - accuracy: 0.7960\n",
            "Epoch 46/50\n",
            "157/157 [==============================] - 5s 30ms/step - loss: 217.3833 - accuracy: 0.7956\n",
            "Epoch 47/50\n",
            "157/157 [==============================] - 5s 30ms/step - loss: 208.5661 - accuracy: 0.7959\n",
            "Epoch 48/50\n",
            "157/157 [==============================] - 5s 30ms/step - loss: 208.3823 - accuracy: 0.7961\n",
            "Epoch 49/50\n",
            "157/157 [==============================] - 5s 30ms/step - loss: 207.3381 - accuracy: 0.7959\n",
            "Epoch 50/50\n",
            "157/157 [==============================] - 5s 30ms/step - loss: 203.8784 - accuracy: 0.7960\n"
          ]
        },
        {
          "output_type": "execute_result",
          "data": {
            "text/plain": [
              "<keras.callbacks.History at 0x7f2b6b9bd150>"
            ]
          },
          "metadata": {},
          "execution_count": 55
        }
      ]
    },
    {
      "cell_type": "code",
      "metadata": {
        "colab": {
          "base_uri": "https://localhost:8080/"
        },
        "id": "wbcIzBix9Xfq",
        "outputId": "37d1ae05-3bd5-428e-c9ac-5b4b7d011afc"
      },
      "source": [
        "results = model.evaluate(X_test_sub, Y_test, verbose=False)\n",
        "print('accuracy=', results[1])"
      ],
      "execution_count": 56,
      "outputs": [
        {
          "output_type": "stream",
          "name": "stdout",
          "text": [
            "accuracy= 0.8070990443229675\n"
          ]
        }
      ]
    },
    {
      "cell_type": "code",
      "metadata": {
        "colab": {
          "base_uri": "https://localhost:8080/",
          "height": 660
        },
        "id": "Z2wb2HM993kV",
        "outputId": "3ea13885-b63b-4c45-8a75-ab3133052748"
      },
      "source": [
        "predictions = model.predict(X_test_sub)\n",
        "n = 4\n",
        "plt.figure(figsize= (20,10))\n",
        "for i in range(n):\n",
        "  ax = plt.subplot(3, n, i+1)\n",
        "  plt.imshow(X_test_sub[i,:,:,0],cmap='gray') \n",
        "  plt.title(\"original image\")\n",
        "  ax = plt.subplot(3, n, i+1+n)\n",
        "  plt.imshow(predictions[i,:,:,0],cmap='gray')\n",
        "  plt.title(\"after super resolution\")\n",
        " \n",
        "plt.show()\n",
        "\n",
        "#comparaison with the bilinear upsampling function given at the beginning\n",
        "tt=super_res_interpolate(X_test_sub,delta,interp_method = 'linear')\n",
        "plt.figure(figsize= (20,10))\n",
        "for i in range(n):\n",
        "  ax = plt.subplot(3, n, i+1+n)\n",
        "  plt.imshow(predictions[i,:,:,0],cmap='gray')\n",
        "  ax = plt.subplot(3, n, i+1+n)\n",
        "  plt.imshow(tt[i,:,:,0],cmap='gray')\n",
        "  plt.title(\"super_res_interpolate\")"
      ],
      "execution_count": 57,
      "outputs": [
        {
          "output_type": "display_data",
          "data": {
            "image/png": "[encoded data removed]",
            "text/plain": [
              "<Figure size 1440x720 with 8 Axes>"
            ]
          },
          "metadata": {
            "needs_background": "light"
          }
        },
        {
          "output_type": "stream",
          "name": "stderr",
          "text": [
            "/usr/local/lib/python3.7/dist-packages/ipykernel_launcher.py:20: MatplotlibDeprecationWarning: Adding an axes using the same arguments as a previous axes currently reuses the earlier instance.  In a future version, a new instance will always be created and returned.  Meanwhile, this warning can be suppressed, and the future behavior ensured, by passing a unique label to each axes instance.\n"
          ]
        },
        {
          "output_type": "display_data",
          "data": {
            "image/png": "[encoded data removed]",
            "text/plain": [
              "<Figure size 1440x720 with 4 Axes>"
            ]
          },
          "metadata": {
            "needs_background": "light"
          }
        }
      ]
    },
    {
      "cell_type": "markdown",
      "metadata": {
        "id": "nssRP8NRAQtA"
      },
      "source": [
        "# Evaluation\n",
        "\n",
        "To evaluate the work, you should rate the code for \n",
        "- 1) Importing MNIST correctly (correctly formatting the data) : 1 point\n",
        "- 2) Creating a model which makes sense (correct input/output sizes) : 1 point\n",
        "- 3) Training and achieving good results  : 2 points. 1 point if the learning increases but does not reach around $80\\%$, 2 points if the learning reaches around $80\\%$\n",
        "- 4) Display a visual comparison of your network with ```super_res_interpolate``` for several examples\n",
        "\n",
        "Total over 5 points.\n"
      ]
    },
    {
      "cell_type": "code",
      "metadata": {
        "id": "vNAi2yAn9WBq"
      },
      "source": [
        ""
      ],
      "execution_count": null,
      "outputs": []
    },
    {
      "cell_type": "code",
      "metadata": {
        "id": "tiU9LAE-7XpC"
      },
      "source": [
        ""
      ],
      "execution_count": null,
      "outputs": []
    }
  ]
}